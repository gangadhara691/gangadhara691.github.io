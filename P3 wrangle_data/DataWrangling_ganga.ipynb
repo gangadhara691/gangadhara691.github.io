{
 "cells": [
  {
   "cell_type": "markdown",
   "metadata": {},
   "source": [
    "# **P3 - Data Wrangling with MongoDB**\n",
    "# **OpenStreetMap Project Data Wrangling with MongoDB**\n",
    "## Gangadhara Naga Sai<a name=\"top\"></a>\n",
    "Data used -<a href=https://mapzen.com/metro-extracts/> MapZen Weekly OpenStreetMaps Metro Extracts</a>\n",
    "\n",
    "\n",
    "Map Areas:\n",
    "   These two maps are selected since ,right now i am living at Hoodi,Bengaluru. And my dream is to do my masters in japan in robotics,so i had selected locality of University of tokyo, Bunkyo.I really wanted to explore differences between the regions.\n",
    "   \n",
    "   \n",
    "- <a href=https://mapzen.com/data/metro-extracts/your-extracts/fdd7c4ef0518> Bonkyu,Tokyo,Japan. </a> \n",
    "- <a href=https://mapzen.com/data/metro-extracts/your-extracts/c1f2842408ac> Hoodi,Bengaluru,india </a>\n",
    "          \n",
    "    \n",
    "<hr>"
   ]
  },
  {
   "cell_type": "markdown",
   "metadata": {},
   "source": [
    "1. [Problems Encountered in the Map](#problems)\n",
    "  - [Filtering Different Language names](#Language)\n",
    "  - [Over-­abbreviated Names](#abbr)\n",
    "  - [Merging both cities](#combine_cities)\n",
    "2. [Data Overview](#data_overview)\n",
    "3. [Additional Data Exploration using MongoDB](#exploration)\n",
    "4.  [Conclusion](#conclusion)"
   ]
  },
  {
   "cell_type": "markdown",
   "metadata": {},
   "source": [
    "<hr>"
   ]
  },
  {
   "cell_type": "markdown",
   "metadata": {},
   "source": [
    "<h2><a name=\"problems\"></a> **1. Problems Encountered**</h2>\n"
   ]
  },
  {
   "cell_type": "markdown",
   "metadata": {},
   "source": [
    "- Some of names were in different Languages so ,i had to filter out them and select english names for both maps Hoodi and Bunkyo \n",
    "- Street names with different types of abbreviations. (i.e. 'Clark Ave SE' or 'Eubank Northeast Ste E-18') \n",
    "- Two cities have to be accessed from one database"
   ]
  },
  {
   "cell_type": "markdown",
   "metadata": {},
   "source": [
    "### Names in Different Language<a name=\"Language\"></a>\n",
    "Different regions have different languages ,and we find that someof names were in different language which are filltered to get only english names.\n",
    "Which would check weather the charecters belong to ascii or not\n"
   ]
  },
  {
   "cell_type": "code",
   "execution_count": 1,
   "metadata": {
    "collapsed": true
   },
   "outputs": [],
   "source": [
    "def isEnglish(string):\n",
    "    try:\n",
    "        string.encode('ascii')\n",
    "    except UnicodeEncodeError:\n",
    "        return False\n",
    "    else:\n",
    "        return True"
   ]
  },
  {
   "cell_type": "markdown",
   "metadata": {},
   "source": [
    "<hr>"
   ]
  },
  {
   "cell_type": "markdown",
   "metadata": {},
   "source": [
    "### **Over-­abbreviated Names**<a name=\"abbr\"></a>\n",
    "\n",
    "Since the most of data being manually uploaded, there are lot of abbreviations in street names,locality names.\n",
    "Where they are filtered and replaced with full names.\n",
    "\n"
   ]
  },
  {
   "cell_type": "code",
   "execution_count": null,
   "metadata": {
    "collapsed": false
   },
   "outputs": [],
   "source": [
    "#the city below can be hoodi or bunkyo\n",
    "for st_type, ways in city_types.iteritems():\n",
    "    for name in ways:\n",
    "        better_name = update_name(name, mapping)\n",
    "        if name != better_name:\n",
    "            print name, \"=>\", better_name"
   ]
  },
  {
   "cell_type": "code",
   "execution_count": null,
   "metadata": {
    "collapsed": false
   },
   "outputs": [],
   "source": [
    "#few examples \n",
    "Bunkyo:\n",
    "Meidai Jr. High Sch. => Meidai Junior High School\n",
    "St. Mary's Cathedral => Saint Mary's Cathedral\n",
    "Shinryukei brdg. E. => Shinryukei Bridge East\n",
    "Iidabashi Sta. E. => Iidabashi Station East\n",
    "...\n",
    "\n",
    "Hoodi:\n",
    "St. Thomas School => Saint Thomas School\n",
    "Opp. Jagrithi Apartment => Opposite Jagrithi Apartment\n",
    "..."
   ]
  },
  {
   "cell_type": "markdown",
   "metadata": {},
   "source": [
    "<hr>"
   ]
  },
  {
   "cell_type": "markdown",
   "metadata": {},
   "source": [
    "### **Merging Both cities**<a name=\"combine_cities\"></a>"
   ]
  },
  {
   "cell_type": "markdown",
   "metadata": {},
   "source": [
    "These two maps are selected since ,right now i am living at Hoodi,Bengaluru. And one day i want do my masters in japan in robotics,so i had selected locality of University of tokyo, Bunkyo.I really wanted to explore differences between the regions. \n",
    "\n",
    "I need to add a tag named \"city\" so i can differentiate them from the database."
   ]
  },
  {
   "cell_type": "markdown",
   "metadata": {},
   "source": [
    "<hr>"
   ]
  },
  {
   "cell_type": "markdown",
   "metadata": {},
   "source": [
    "## **2. Data Overview**<a name=\"data_overview\"></a>"
   ]
  },
  {
   "cell_type": "markdown",
   "metadata": {},
   "source": [
    "This section contains basic statistics about the dataset and the MongoDB queries used to gather them."
   ]
  },
  {
   "cell_type": "markdown",
   "metadata": {},
   "source": [
    "### **File Sizes**"
   ]
  },
  {
   "cell_type": "code",
   "execution_count": null,
   "metadata": {
    "collapsed": false
   },
   "outputs": [],
   "source": [
    "bangalore.osm -40MB\n",
    "bangalore.osm.json-51MB\n",
    "tokyo1.osm- 82MB\n",
    "tokyo1.osm.json-102.351MB"
   ]
  },
  {
   "cell_type": "markdown",
   "metadata": {},
   "source": [
    "#### **Number of documents**"
   ]
  },
  {
   "cell_type": "code",
   "execution_count": 6,
   "metadata": {
    "collapsed": false
   },
   "outputs": [],
   "source": [
    "print \"Bunkyo:\",mongo_db.cities.find({'city':'bunkyo'}).count()\n",
    "print \"Hoodi:\",mongo_db.cities.find({'city':'hoodi'}).count()"
   ]
  },
  {
   "cell_type": "markdown",
   "metadata": {
    "collapsed": false
   },
   "source": [
    "- Bunkyo: 1268292\n",
    "- Hoodi: 667842"
   ]
  },
  {
   "cell_type": "markdown",
   "metadata": {},
   "source": [
    "#### **Number of node nodes.**"
   ]
  },
  {
   "cell_type": "code",
   "execution_count": null,
   "metadata": {
    "collapsed": false
   },
   "outputs": [],
   "source": [
    "print \"Bunkyo:\",mongo_db.cities.find({\"type\":\"node\",\n",
    "                                    'city':'bunkyo'}).count()\n",
    "print \"Hoodi:\",mongo_db.cities.find({\"type\":\"node\",\n",
    "                                    'city':'hoodi'}).count()"
   ]
  },
  {
   "cell_type": "code",
   "execution_count": 1,
   "metadata": {
    "collapsed": false
   },
   "outputs": [],
   "source": [
    "Bunkyo: 1051170\n",
    "Hoodi: 548862"
   ]
  },
  {
   "cell_type": "markdown",
   "metadata": {},
   "source": [
    "#### **Number of way nodes.**"
   ]
  },
  {
   "cell_type": "code",
   "execution_count": 1,
   "metadata": {
    "collapsed": false
   },
   "outputs": [],
   "source": [
    "print \"Bunkyo:\",mongo_db.cities.find({'type':'way',\n",
    "                                  'city':'bunkyo'}).count()\n",
    "print \"Hoodi:\",mongo_db.cities.find({'type':'way',\n",
    "                                  'city':'hoodi'}).count()"
   ]
  },
  {
   "cell_type": "code",
   "execution_count": 1,
   "metadata": {
    "collapsed": false
   },
   "outputs": [],
   "source": [
    "Bunkyo: 217122\n",
    "Hoodi: 118980"
   ]
  },
  {
   "cell_type": "markdown",
   "metadata": {},
   "source": [
    "#### **Total Number of contributor.**"
   ]
  },
  {
   "cell_type": "code",
   "execution_count": 1,
   "metadata": {
    "collapsed": false
   },
   "outputs": [],
   "source": [
    "print \"Constributors:\", len(mongo_db.cities.distinct(\"created.user\"))"
   ]
  },
  {
   "cell_type": "code",
   "execution_count": 1,
   "metadata": {
    "collapsed": false
   },
   "outputs": [],
   "source": [
    "Contributors: 858"
   ]
  },
  {
   "cell_type": "markdown",
   "metadata": {},
   "source": [
    "<hr>"
   ]
  },
  {
   "cell_type": "markdown",
   "metadata": {},
   "source": [
    "## **3. Additional Data Exploration using MongoDB**<a name=\"exploration\"></a>\n",
    "I am going to use the pipeline function to retrive data from the database"
   ]
  },
  {
   "cell_type": "code",
   "execution_count": null,
   "metadata": {
    "collapsed": true
   },
   "outputs": [],
   "source": [
    "def pipeline(city):\n",
    "    p= [{\"$match\":{\"created.user\":{\"$exists\":1},\n",
    "                                          \"city\":city}},\n",
    "                 {\"$group\": {\"_id\": {\"City\":\"$city\",\n",
    "                                     \"User\":\"$created.user\"},\n",
    "                            \"contribution\": {\"$sum\": 1}}},                            \n",
    "                 {\"$project\": {'_id':0,\n",
    "                               \"City\":\"$_id.City\",\n",
    "                               \"User_Name\":\"$_id.User\",\n",
    "                               \"Total_contribution\":\"$contribution\"}},\n",
    "                 {\"$sort\": {\"Total_contribution\": -1}},\n",
    "                 {\"$limit\" : 5 }]\n",
    "    return p\n",
    "result1 =mongo_db[\"cities\"].aggregate(pipeline('bunkyo'))\n",
    "for each in result1:    \n",
    "    print(each)\n",
    "print(\"\\n\")\n",
    "result2 =mongo_db[\"cities\"].aggregate(pipeline('hoodi'))\n",
    "for each in result2:    \n",
    "    print(each)\n"
   ]
  },
  {
   "cell_type": "raw",
   "metadata": {
    "collapsed": false
   },
   "source": [
    "Bunkyo:\n",
    "{u'City': u'bunkyo', u'User_Name': u'kurauchi', u'Total_contribution': 667425}\n",
    "{u'City': u'bunkyo', u'User_Name': u'watao', u'Total_contribution': 216855}\n",
    "{u'City': u'bunkyo', u'User_Name': u'higa4', u'Total_contribution': 40845}\n",
    "{u'City': u'bunkyo', u'User_Name': u'ikiya', u'Total_contribution': 37287}\n",
    "{u'City': u'bunkyo', u'User_Name': u'javbw', u'Total_contribution': 26655}\n",
    "\n",
    "Hoodi:\n",
    "{u'City': u'hoodi', u'User_Name': u'praveeng', u'Total_contribution': 75153}\n",
    "{u'City': u'hoodi', u'User_Name': u'akhilsai', u'Total_contribution': 70509}\n",
    "{u'City': u'hoodi', u'User_Name': u'anthony1', u'Total_contribution': 52194}\n",
    "{u'City': u'hoodi', u'User_Name': u'anushapyata', u'Total_contribution': 45540}\n",
    "{u'City': u'hoodi', u'User_Name': u'docaneesh', u'Total_contribution': 38703}"
   ]
  },
  {
   "cell_type": "markdown",
   "metadata": {},
   "source": [
    "The top contributors for hoodi are no where near since bunkyo being a more compact region than hoodi ,there are more places to contribute."
   ]
  },
  {
   "cell_type": "markdown",
   "metadata": {},
   "source": [
    "<hr>"
   ]
  },
  {
   "cell_type": "markdown",
   "metadata": {},
   "source": [
    "### To get the top Amenities in Hoodi and Bunkyo\n",
    "I will be showing the pipeline that will go in the above mentioned \"Pipleline\" function"
   ]
  },
  {
   "cell_type": "code",
   "execution_count": null,
   "metadata": {
    "collapsed": true
   },
   "outputs": [],
   "source": [
    "pipeline=[{\"$match\":{\"Additional Information.amenity\":{\"$exists\":1},\n",
    "                                          \"city\":city}},\n",
    "                 {\"$group\": {\"_id\": {\"City\":\"$city\",\n",
    "                                    \"Amenity\":\"$Additional Information.amenity\"},\n",
    "                            \"count\": {\"$sum\": 1}}},\n",
    "                 {\"$project\": {'_id':0,\n",
    "                               \"City\":\"$_id.City\",\n",
    "                               \"Amenity\":\"$_id.Amenity\",\n",
    "                               \"Count\":\"$count\"}},\n",
    "                 {\"$sort\": {\"Count\": -1}},\n",
    "                 {\"$limit\" : 10 }]"
   ]
  },
  {
   "cell_type": "raw",
   "metadata": {},
   "source": [
    "Bunkyo:\n",
    "{u'Count': 1587, u'City': u'bunkyo', u'Amenity': u'parking'}\n",
    "{u'Count': 1497, u'City': u'bunkyo', u'Amenity': u'restaurant'}\n",
    "{u'Count': 933, u'City': u'bunkyo', u'Amenity': u'cafe'}\n",
    "{u'Count': 792, u'City': u'bunkyo', u'Amenity': u'fast_food'}\n",
    "{u'Count': 723, u'City': u'bunkyo', u'Amenity': u'school'}\n",
    "{u'Count': 606, u'City': u'bunkyo', u'Amenity': u'place_of_worship'}\n",
    "{u'Count': 525, u'City': u'bunkyo', u'Amenity': u'vending_machine'}\n",
    "{u'Count': 507, u'City': u'bunkyo', u'Amenity': u'bench'}\n",
    "{u'Count': 354, u'City': u'bunkyo', u'Amenity': u'pub'}\n",
    "{u'Count': 342, u'City': u'bunkyo', u'Amenity': u'kindergarten'}\n",
    "\n",
    "Hoodi:\n",
    "{u'Count': 528, u'City': u'hoodi', u'Amenity': u'restaurant'}\n",
    "{u'Count': 216, u'City': u'hoodi', u'Amenity': u'school'}\n",
    "{u'Count': 189, u'City': u'hoodi', u'Amenity': u'atm'}\n",
    "{u'Count': 162, u'City': u'hoodi', u'Amenity': u'pharmacy'}\n",
    "{u'Count': 162, u'City': u'hoodi', u'Amenity': u'parking'}\n",
    "{u'Count': 162, u'City': u'hoodi', u'Amenity': u'place_of_worship'}\n",
    "{u'Count': 141, u'City': u'hoodi', u'Amenity': u'bank'}\n",
    "{u'Count': 141, u'City': u'hoodi', u'Amenity': u'fast_food'}\n",
    "{u'Count': 138, u'City': u'hoodi', u'Amenity': u'hospital'}\n",
    "{u'Count': 102, u'City': u'hoodi', u'Amenity': u'cafe'}"
   ]
  },
  {
   "cell_type": "markdown",
   "metadata": {},
   "source": [
    "### As compared to hoodi ,bunkyo have few atms,And parking can be commonly found in bunkyo locality"
   ]
  },
  {
   "cell_type": "markdown",
   "metadata": {},
   "source": [
    "<hr>"
   ]
  },
  {
   "cell_type": "markdown",
   "metadata": {},
   "source": [
    "###  popular places of worship\n"
   ]
  },
  {
   "cell_type": "code",
   "execution_count": null,
   "metadata": {
    "collapsed": true
   },
   "outputs": [],
   "source": [
    "    p = [{\"$match\":{\"Additional Information.amenity\":{\"$exists\":1},\n",
    "                                  \"Additional Information.amenity\":\"place_of_worship\",\n",
    "                                  \"city\":city}},\n",
    "                       {\"$group\":{\"_id\": {\"City\":\"$city\",\n",
    "                                          \"Religion\":\"$Additional Information.religion\"},\n",
    "                                  \"count\":{\"$sum\":1}}},\n",
    "                       {\"$project\":{\"_id\":0,\n",
    "                                    \"City\":\"$_id.City\",\n",
    "                                    \"Religion\":\"$_id.Religion\",\n",
    "                                    \"Count\":\"$count\"}},\n",
    "                       {\"$sort\":{\"Count\":-1}},\n",
    "                       {\"$limit\":6}]"
   ]
  },
  {
   "cell_type": "raw",
   "metadata": {
    "collapsed": false
   },
   "source": [
    "Bunkyo: \n",
    "{u'Count': 303, u'City': u'bunkyo', u'Religion': u'buddhist'}\n",
    "{u'Count': 132, u'City': u'bunkyo', u'Religion': u'shinto'}\n",
    "{u'Count': 123, u'City': u'bunkyo'}\n",
    "{u'Count': 39, u'City': u'bunkyo', u'Religion': u'christian'}\n",
    "{u'Count': 3, u'City': u'bunkyo', u'Religion': u'muslim'}\n",
    "{u'Count': 3, u'City': u'bunkyo', u'Religion': u'confucian'}\n",
    "\n",
    "Hoodi:\n",
    "{u'Count': 90, u'City': u'hoodi', u'Religion': u'hindu'}\n",
    "{u'Count': 30, u'City': u'hoodi', u'Religion': u'christian'}\n",
    "{u'Count': 24, u'City': u'hoodi'}\n",
    "{u'Count': 18, u'City': u'hoodi', u'Religion': u'muslim'}"
   ]
  },
  {
   "cell_type": "markdown",
   "metadata": {},
   "source": [
    "As expected japan is popular with buddism,\n",
    "\n",
    "\n",
    "but india being a secular country it will be having most of the reglious places of worship,where hinduism being majority"
   ]
  },
  {
   "cell_type": "markdown",
   "metadata": {},
   "source": [
    "<hr>"
   ]
  },
  {
   "cell_type": "markdown",
   "metadata": {},
   "source": [
    "### popular restaurants"
   ]
  },
  {
   "cell_type": "code",
   "execution_count": null,
   "metadata": {
    "collapsed": true
   },
   "outputs": [],
   "source": [
    "p = [{\"$match\":{\"Additional Information.amenity\":{\"$exists\":1},\n",
    "                                 \"Additional Information.amenity\":\"restaurant\",\n",
    "                                 \"city\":city}},\n",
    "                      {\"$group\":{\"_id\":{\"City\":\"$city\",\n",
    "                                        \"Food\":\"$Additional Information.cuisine\"},\n",
    "                                 \"count\":{\"$sum\":1}}},\n",
    "                      {\"$project\":{\"_id\":0,\n",
    "                                  \"City\":\"$_id.City\",\n",
    "                                  \"Food\":\"$_id.Food\",\n",
    "                                  \"Count\":\"$count\"}},\n",
    "                      {\"$sort\":{\"Count\":-1}}, \n",
    "                      {\"$limit\":6}]"
   ]
  },
  {
   "cell_type": "markdown",
   "metadata": {},
   "source": [
    "{u'Count': 582, u'City': u'bunkyo'}\n",
    "{u'Food': u'japanese', u'City': u'bunkyo', u'Count': 192}\n",
    "{u'Food': u'chinese', u'City': u'bunkyo', u'Count': 126}\n",
    "{u'Food': u'italian', u'City': u'bunkyo', u'Count': 69}\n",
    "{u'Food': u'indian', u'City': u'bunkyo', u'Count': 63}\n",
    "{u'Food': u'sushi', u'City': u'bunkyo', u'Count': 63}\n",
    "\n",
    "\n",
    "{u'Count': 213, u'City': u'hoodi'}\n",
    "{u'Food': u'regional', u'City': u'hoodi', u'Count': 75}\n",
    "{u'Food': u'indian', u'City': u'hoodi', u'Count': 69}\n",
    "{u'Food': u'chinese', u'City': u'hoodi', u'Count': 36}\n",
    "{u'Food': u'international', u'City': u'hoodi', u'Count': 24}\n",
    "{u'Food': u'Andhra', u'City': u'hoodi', u'Count': 21}"
   ]
  },
  {
   "cell_type": "markdown",
   "metadata": {},
   "source": [
    "Indian style cusine in Bunkyo seems famous, Which will be better if i go to japan and do my higher studies there."
   ]
  },
  {
   "cell_type": "markdown",
   "metadata": {},
   "source": [
    "<hr>"
   ]
  },
  {
   "cell_type": "markdown",
   "metadata": {},
   "source": [
    "### popular fast food joints\n"
   ]
  },
  {
   "cell_type": "code",
   "execution_count": null,
   "metadata": {
    "collapsed": false
   },
   "outputs": [],
   "source": [
    " p = [{\"$match\":{\"Additional Information.amenity\":{\"$exists\":1},\n",
    "                                 \"Additional Information.amenity\":\"fast_food\",\n",
    "                                 \"city\":city}},\n",
    "                      {\"$group\":{\"_id\":{\"City\":\"$city\",\n",
    "                                        \"Food\":\"$Additional Information.cuisine\"},\n",
    "                                 \"count\":{\"$sum\":1}}},\n",
    "                      {\"$project\":{\"_id\":0,\n",
    "                                  \"City\":\"$_id.City\",\n",
    "                                  \"Food\":\"$_id.Food\",\n",
    "                                  \"Count\":\"$count\"}},\n",
    "                      {\"$sort\":{\"Count\":-1}}, \n",
    "                      {\"$limit\":6}]"
   ]
  },
  {
   "cell_type": "raw",
   "metadata": {
    "collapsed": false
   },
   "source": [
    "{u'Count': 246, u'City': u'bunkyo'}\n",
    "{u'Food': u'burger', u'City': u'bunkyo', u'Count': 102}\n",
    "{u'Food': u'ramen', u'City': u'bunkyo', u'Count': 81}\n",
    "{u'Food': u'japanese', u'City': u'bunkyo', u'Count': 54}\n",
    "{u'Food': u'noodle', u'City': u'bunkyo', u'Count': 51}\n",
    "{u'Food': u'noodle;ramen', u'City': u'bunkyo', u'Count': 33}\n",
    "\n",
    "\n",
    "{u'Count': 66, u'City': u'hoodi'}\n",
    "{u'Food': u'pizza', u'City': u'hoodi', u'Count': 21}\n",
    "{u'Food': u'indian', u'City': u'hoodi', u'Count': 12}\n",
    "{u'Food': u'chicken', u'City': u'hoodi', u'Count': 6}\n",
    "{u'Food': u'ice_cream', u'City': u'hoodi', u'Count': 6}\n",
    "{u'Food': u'burger', u'City': u'hoodi', u'Count': 6}"
   ]
  },
  {
   "cell_type": "markdown",
   "metadata": {},
   "source": [
    "Burger seems very popular among japanese in fast foods,i was expecting ramen to be more popular\n",
    "\n",
    ", but in hoodi pizza is really common,being a metropolitan city."
   ]
  },
  {
   "cell_type": "markdown",
   "metadata": {},
   "source": [
    "<hr>"
   ]
  },
  {
   "cell_type": "markdown",
   "metadata": {},
   "source": [
    "###  ATM's near locality\n"
   ]
  },
  {
   "cell_type": "code",
   "execution_count": null,
   "metadata": {
    "collapsed": false
   },
   "outputs": [],
   "source": [
    "    p = [{\"$match\":{\"Additional Information.amenity\":{\"$exists\":1},\n",
    "                                 \"Additional Information.amenity\":\"atm\",\n",
    "                                 \"city\":city}},\n",
    "                      {\"$group\":{\"_id\":{\"City\":\"$city\",\n",
    "                                        \"Name\":\"$Additional Information.name:en\"},\n",
    "                                 \"count\":{\"$sum\":1}}},\n",
    "                      {\"$project\":{\"_id\":0,\n",
    "                                  \"City\":\"$_id.City\",\n",
    "                                  \"Name\":\"$_id.Name\",\n",
    "                                  \"Count\":\"$count\"}},\n",
    "                      {\"$sort\":{\"Count\":-1}}, \n",
    "                      {\"$limit\":4}]"
   ]
  },
  {
   "cell_type": "raw",
   "metadata": {
    "collapsed": false
   },
   "source": [
    "{u'Count': 75, u'City': u'bunkyo'}\n",
    "{u'Count': 6, u'City': u'bunkyo', u'Name': u'JP Bank'}\n",
    "{u'Count': 6, u'City': u'bunkyo', u'Name': u'Mizuho'}\n",
    "\n",
    "\n",
    "{u'Count': 177, u'City': u'hoodi'}\n",
    "{u'Count': 3, u'City': u'hoodi', u'Name': u'Axis bank ATM'}\n",
    "{u'Count': 3, u'City': u'hoodi', u'Name': u'HDFC'}\n",
    "{u'Count': 3, u'City': u'hoodi', u'Name': u'Canara'}\n",
    "{u'Count': 3, u'City': u'hoodi', u'Name': u'State bank ATM'}\n"
   ]
  },
  {
   "cell_type": "markdown",
   "metadata": {},
   "source": [
    "There are quite a few ATM in Bunkyo as compared to hoodi"
   ]
  },
  {
   "cell_type": "markdown",
   "metadata": {},
   "source": [
    "<hr>"
   ]
  },
  {
   "cell_type": "markdown",
   "metadata": {},
   "source": [
    "###  Martial arts or Dojo Center near locality\n"
   ]
  },
  {
   "cell_type": "code",
   "execution_count": null,
   "metadata": {
    "collapsed": false
   },
   "outputs": [],
   "source": [
    "##  Martial arts or Dojo Center near locality\n",
    "import re\n",
    "\n",
    "pat = re.compile(r'dojo', re.I)\n",
    "d=mongo_db.cities.aggregate([{\"$match\":{ \"$or\": [ { \"Additional Information.name\": {'$regex': pat}}\n",
    "                                                   ,{\"Additional Information.amenity\": {'$regex': pat}}]}}\n",
    "                            ,{\"$group\":{\"_id\":{\"City\":\"$city\"\n",
    "                             , \"Sport\":\"$Additional Information.name\"}}}])\n",
    "for each in d:    \n",
    "    print(each)"
   ]
  },
  {
   "cell_type": "code",
   "execution_count": null,
   "metadata": {
    "collapsed": false
   },
   "outputs": [],
   "source": [
    "bunkyo: \n",
    "{u'_id': {u'City': u'bunkyo', u'Sport': u'Aikikai Hombu Dojo'}}\n",
    "{u'_id': {u'City': u'bunkyo', u'Sport': u'Kodokan Dojo'}}\n",
    "\n",
    "hoodi:\n",
    "{u'_id': {u'City': u'hoodi', u'Sport': u\"M S Gurukkal's Kalari Academy\"}}\n"
   ]
  },
  {
   "cell_type": "markdown",
   "metadata": {},
   "source": [
    "I wanted to learn martial arts , \n",
    "In japan is known for its akido and other ninjistsu martial arts , where i can find some in bunkyo\n",
    "Where as in hoodi,india Kalaripayattu Martial Arts are one of the ancient arts that ever existed."
   ]
  },
  {
   "cell_type": "markdown",
   "metadata": {},
   "source": [
    "<hr>"
   ]
  },
  {
   "cell_type": "markdown",
   "metadata": {},
   "source": [
    "### most popular shops.\n"
   ]
  },
  {
   "cell_type": "code",
   "execution_count": null,
   "metadata": {
    "collapsed": false
   },
   "outputs": [],
   "source": [
    " p = [{\"$match\":{\"Additional Information.shop\":{\"$exists\":1},\n",
    "                                          \"city\":city}},\n",
    "                       {\"$group\":{\"_id\":{\"City\":\"$city\",\n",
    "                                  \"Shop\":\"$Additional Information.shop\"},\n",
    "                           \"count\":{\"$sum\":1}}},\n",
    "                       {\"$project\": {'_id':0,\n",
    "                                     \"City\":\"$_id.City\",\n",
    "                                     \"Shop\":\"$_id.Shop\",\n",
    "                                     \"Count\":\"$count\"}},\n",
    "                       {\"$sort\":{\"Count\":-1}},\n",
    "                       {\"$limit\":10}]"
   ]
  },
  {
   "cell_type": "code",
   "execution_count": null,
   "metadata": {
    "collapsed": false
   },
   "outputs": [],
   "source": [
    "{u'Shop': u'convenience', u'City': u'bunkyo', u'Count': 1035}\n",
    "{u'Shop': u'clothes', u'City': u'bunkyo', u'Count': 282}\n",
    "{u'Shop': u'books', u'City': u'bunkyo', u'Count': 225}\n",
    "{u'Shop': u'mobile_phone', u'City': u'bunkyo', u'Count': 186}\n",
    "{u'Shop': u'confectionery', u'City': u'bunkyo', u'Count': 156}\n",
    "{u'Shop': u'supermarket', u'City': u'bunkyo', u'Count': 150}\n",
    "{u'Shop': u'computer', u'City': u'bunkyo', u'Count': 126}\n",
    "{u'Shop': u'hairdresser', u'City': u'bunkyo', u'Count': 90}\n",
    "{u'Shop': u'electronics', u'City': u'bunkyo', u'Count': 90}\n",
    "{u'Shop': u'anime', u'City': u'bunkyo', u'Count': 90}\n",
    "\n",
    "\n",
    "{u'Shop': u'clothes', u'City': u'hoodi', u'Count': 342}\n",
    "{u'Shop': u'supermarket', u'City': u'hoodi', u'Count': 129}\n",
    "{u'Shop': u'bakery', u'City': u'hoodi', u'Count': 120}\n",
    "{u'Shop': u'shoes', u'City': u'hoodi', u'Count': 72}\n",
    "{u'Shop': u'furniture', u'City': u'hoodi', u'Count': 72}\n",
    "{u'Shop': u'sports', u'City': u'hoodi', u'Count': 66}\n",
    "{u'Shop': u'electronics', u'City': u'hoodi', u'Count': 60}\n",
    "{u'Shop': u'beauty', u'City': u'hoodi', u'Count': 54}\n",
    "{u'Shop': u'car', u'City': u'hoodi', u'Count': 36}\n",
    "{u'Shop': u'convenience', u'City': u'hoodi', u'Count': 36}"
   ]
  },
  {
   "cell_type": "code",
   "execution_count": null,
   "metadata": {
    "collapsed": true
   },
   "outputs": [],
   "source": [
    "The general stores are quite common in both the places"
   ]
  },
  {
   "cell_type": "markdown",
   "metadata": {},
   "source": [
    "### most popular supermarkets\n"
   ]
  },
  {
   "cell_type": "code",
   "execution_count": null,
   "metadata": {
    "collapsed": true
   },
   "outputs": [],
   "source": [
    "    p = [{\"$match\":{\"Additional Information.shop\":{\"$exists\":1},\n",
    "                           \"city\":city,\n",
    "                           \"Additional Information.shop\":\"supermarket\"}},\n",
    "                       {\"$group\":{\"_id\":{\"City\":\"$city\",\n",
    "                                  \"Supermarket\":\"$Additional Information.name\"},\n",
    "                           \"count\":{\"$sum\":1}}},\n",
    "                       {\"$project\": {'_id':0,\n",
    "                                     \"City\":\"$_id.City\",\n",
    "                                     \"Supermarket\":\"$_id.Supermarket\",\n",
    "                                     \"Count\":\"$count\"}},\n",
    "                       {\"$sort\":{\"Count\":-1}},\n",
    "                       {\"$limit\":5}]"
   ]
  },
  {
   "cell_type": "code",
   "execution_count": null,
   "metadata": {
    "collapsed": true
   },
   "outputs": [],
   "source": [
    "{u'Count': 120, u'City': u'bunkyo'}\n",
    "{u'Count': 9, u'City': u'bunkyo', u'Supermarket': u'Maruetsu'}\n",
    "{u'Count': 3, u'City': u'bunkyo', u'Supermarket': u\"Y's Mart\"}\n",
    "{u'Count': 3, u'City': u'bunkyo', u'Supermarket': u'SainE'}\n",
    "{u'Count': 3, u'City': u'bunkyo', u'Supermarket': u'DAIMARU Peacock'}\n",
    "\n",
    "\n",
    "{u'Count': 9, u'City': u'hoodi', u'Supermarket': u'Reliance Fresh'}\n",
    "{u'Count': 9, u'City': u'hoodi'}\n",
    "{u'Count': 6, u'City': u'hoodi', u'Supermarket': u\"Nilgiri's\"}\n",
    "{u'Count': 3, u'City': u'hoodi', u'Supermarket': u'Royal Mart Supermarket'}\n",
    "{u'Count': 3, u'City': u'hoodi', u'Supermarket': u'Safal'}\n",
    "\n"
   ]
  },
  {
   "cell_type": "markdown",
   "metadata": {},
   "source": [
    "These are few common supermarket brands in both the cities\n",
    "And Nilgiris is like 500 meters away from my home."
   ]
  },
  {
   "cell_type": "markdown",
   "metadata": {},
   "source": [
    "<hr>"
   ]
  },
  {
   "cell_type": "markdown",
   "metadata": {},
   "source": [
    "## **4. Conclusion**<a name=\"conclusion\"></a>"
   ]
  },
  {
   "cell_type": "markdown",
   "metadata": {},
   "source": [
    "After such a investigation on this data i think i have become familiar with bunkyo region.\n",
    "\n",
    "I was expecting a difficulty in merging both the cities data into a single database ,but seem a simple key like city could differentiate them.\n",
    "\n",
    "There might be even robust cleaning algorithms to a better and clean database,as most of the data is from gps that goes into OpenStreetMap.org. Which needed to be regularly cleaned.\n",
    "\n",
    "From the comparision of both the cities these are qiute similar and bunkyo region interests me even more to pursue higher studies."
   ]
  },
  {
   "cell_type": "markdown",
   "metadata": {},
   "source": [
    "<hr>"
   ]
  }
 ],
 "metadata": {
  "anaconda-cloud": {},
  "kernelspec": {
   "display_name": "Python [default]",
   "language": "python",
   "name": "python2"
  },
  "language_info": {
   "codemirror_mode": {
    "name": "ipython",
    "version": 2
   },
   "file_extension": ".py",
   "mimetype": "text/x-python",
   "name": "python",
   "nbconvert_exporter": "python",
   "pygments_lexer": "ipython2",
   "version": "2.7.12"
  }
 },
 "nbformat": 4,
 "nbformat_minor": 0
}
