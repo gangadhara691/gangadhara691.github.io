{
 "cells": [
  {
   "cell_type": "markdown",
   "metadata": {},
   "source": [
    "# Statistics: The Science of Decisions Project by Gangadhara Naga Sai\n",
    "\n",
    "Background Information\n",
    "\n",
    "In a Stroop task, participants are presented with a list of words, with each word displayed in a color of ink. The participant’s task is to say out loud the color of the ink in which the word is printed. The task has two conditions: a congruent words condition, and an incongruent words condition. In the congruent words condition, the words being displayed are color words whose names match the colors in which they are printed: for example RED, BLUE. In the incongruent words condition, the words displayed are color words whose names do not match the colors in which they are printed: for example PURPLE, ORANGE. In each case, we measure the time it takes to name the ink colors in equally-sized lists. Each participant will go through and record a time from each condition.\n",
    "\n"
   ]
  },
  {
   "cell_type": "code",
   "execution_count": 1,
   "metadata": {
    "collapsed": false
   },
   "outputs": [
    {
     "data": {
      "text/html": [
       "<div>\n",
       "<table border=\"1\" class=\"dataframe\">\n",
       "  <thead>\n",
       "    <tr style=\"text-align: right;\">\n",
       "      <th></th>\n",
       "      <th>Congruent</th>\n",
       "      <th>Incongruent</th>\n",
       "      <th>Difference</th>\n",
       "    </tr>\n",
       "  </thead>\n",
       "  <tbody>\n",
       "    <tr>\n",
       "      <th>0</th>\n",
       "      <td>12.079</td>\n",
       "      <td>19.278</td>\n",
       "      <td>-7.199</td>\n",
       "    </tr>\n",
       "    <tr>\n",
       "      <th>1</th>\n",
       "      <td>16.791</td>\n",
       "      <td>18.741</td>\n",
       "      <td>-1.950</td>\n",
       "    </tr>\n",
       "    <tr>\n",
       "      <th>2</th>\n",
       "      <td>9.564</td>\n",
       "      <td>21.214</td>\n",
       "      <td>-11.650</td>\n",
       "    </tr>\n",
       "    <tr>\n",
       "      <th>3</th>\n",
       "      <td>8.630</td>\n",
       "      <td>15.687</td>\n",
       "      <td>-7.057</td>\n",
       "    </tr>\n",
       "    <tr>\n",
       "      <th>4</th>\n",
       "      <td>14.669</td>\n",
       "      <td>22.803</td>\n",
       "      <td>-8.134</td>\n",
       "    </tr>\n",
       "    <tr>\n",
       "      <th>5</th>\n",
       "      <td>12.238</td>\n",
       "      <td>20.878</td>\n",
       "      <td>-8.640</td>\n",
       "    </tr>\n",
       "    <tr>\n",
       "      <th>6</th>\n",
       "      <td>14.692</td>\n",
       "      <td>24.572</td>\n",
       "      <td>-9.880</td>\n",
       "    </tr>\n",
       "    <tr>\n",
       "      <th>7</th>\n",
       "      <td>8.987</td>\n",
       "      <td>17.394</td>\n",
       "      <td>-8.407</td>\n",
       "    </tr>\n",
       "    <tr>\n",
       "      <th>8</th>\n",
       "      <td>9.401</td>\n",
       "      <td>20.762</td>\n",
       "      <td>-11.361</td>\n",
       "    </tr>\n",
       "    <tr>\n",
       "      <th>9</th>\n",
       "      <td>14.480</td>\n",
       "      <td>26.282</td>\n",
       "      <td>-11.802</td>\n",
       "    </tr>\n",
       "    <tr>\n",
       "      <th>10</th>\n",
       "      <td>22.328</td>\n",
       "      <td>24.524</td>\n",
       "      <td>-2.196</td>\n",
       "    </tr>\n",
       "    <tr>\n",
       "      <th>11</th>\n",
       "      <td>15.298</td>\n",
       "      <td>18.644</td>\n",
       "      <td>-3.346</td>\n",
       "    </tr>\n",
       "    <tr>\n",
       "      <th>12</th>\n",
       "      <td>15.073</td>\n",
       "      <td>17.510</td>\n",
       "      <td>-2.437</td>\n",
       "    </tr>\n",
       "    <tr>\n",
       "      <th>13</th>\n",
       "      <td>16.929</td>\n",
       "      <td>20.330</td>\n",
       "      <td>-3.401</td>\n",
       "    </tr>\n",
       "    <tr>\n",
       "      <th>14</th>\n",
       "      <td>18.200</td>\n",
       "      <td>35.255</td>\n",
       "      <td>-17.055</td>\n",
       "    </tr>\n",
       "    <tr>\n",
       "      <th>15</th>\n",
       "      <td>12.130</td>\n",
       "      <td>22.158</td>\n",
       "      <td>-10.028</td>\n",
       "    </tr>\n",
       "    <tr>\n",
       "      <th>16</th>\n",
       "      <td>18.495</td>\n",
       "      <td>25.139</td>\n",
       "      <td>-6.644</td>\n",
       "    </tr>\n",
       "    <tr>\n",
       "      <th>17</th>\n",
       "      <td>10.639</td>\n",
       "      <td>20.429</td>\n",
       "      <td>-9.790</td>\n",
       "    </tr>\n",
       "    <tr>\n",
       "      <th>18</th>\n",
       "      <td>11.344</td>\n",
       "      <td>17.425</td>\n",
       "      <td>-6.081</td>\n",
       "    </tr>\n",
       "    <tr>\n",
       "      <th>19</th>\n",
       "      <td>12.369</td>\n",
       "      <td>34.288</td>\n",
       "      <td>-21.919</td>\n",
       "    </tr>\n",
       "    <tr>\n",
       "      <th>20</th>\n",
       "      <td>12.944</td>\n",
       "      <td>23.894</td>\n",
       "      <td>-10.950</td>\n",
       "    </tr>\n",
       "    <tr>\n",
       "      <th>21</th>\n",
       "      <td>14.233</td>\n",
       "      <td>17.960</td>\n",
       "      <td>-3.727</td>\n",
       "    </tr>\n",
       "    <tr>\n",
       "      <th>22</th>\n",
       "      <td>19.710</td>\n",
       "      <td>22.058</td>\n",
       "      <td>-2.348</td>\n",
       "    </tr>\n",
       "    <tr>\n",
       "      <th>23</th>\n",
       "      <td>16.004</td>\n",
       "      <td>21.157</td>\n",
       "      <td>-5.153</td>\n",
       "    </tr>\n",
       "  </tbody>\n",
       "</table>\n",
       "</div>"
      ],
      "text/plain": [
       "    Congruent  Incongruent  Difference\n",
       "0      12.079       19.278      -7.199\n",
       "1      16.791       18.741      -1.950\n",
       "2       9.564       21.214     -11.650\n",
       "3       8.630       15.687      -7.057\n",
       "4      14.669       22.803      -8.134\n",
       "5      12.238       20.878      -8.640\n",
       "6      14.692       24.572      -9.880\n",
       "7       8.987       17.394      -8.407\n",
       "8       9.401       20.762     -11.361\n",
       "9      14.480       26.282     -11.802\n",
       "10     22.328       24.524      -2.196\n",
       "11     15.298       18.644      -3.346\n",
       "12     15.073       17.510      -2.437\n",
       "13     16.929       20.330      -3.401\n",
       "14     18.200       35.255     -17.055\n",
       "15     12.130       22.158     -10.028\n",
       "16     18.495       25.139      -6.644\n",
       "17     10.639       20.429      -9.790\n",
       "18     11.344       17.425      -6.081\n",
       "19     12.369       34.288     -21.919\n",
       "20     12.944       23.894     -10.950\n",
       "21     14.233       17.960      -3.727\n",
       "22     19.710       22.058      -2.348\n",
       "23     16.004       21.157      -5.153"
      ]
     },
     "execution_count": 1,
     "metadata": {},
     "output_type": "execute_result"
    }
   ],
   "source": [
    "#Loading data\n",
    "%matplotlib inline \n",
    "import matplotlib.pyplot as plt\n",
    "import numpy as np\n",
    "import pandas as pd\n",
    "import math\n",
    "\n",
    "data = pd.read_csv(\"stroopdata.csv\")\n",
    "data\n",
    "#The difference is calculated in the csv file itself"
   ]
  },
  {
   "cell_type": "markdown",
   "metadata": {},
   "source": [
    "Questions For Investigation\n",
    "\n",
    "\n",
    "## 1. What is our independent variable? What is our dependent variable?\n",
    "\n",
    ">Independent variable: the words list type (congruent words or incongruent words) \n",
    "\n",
    ">Dependent variable: the time taken to recognize the colors of ink in equally-number of word lists \n",
    "\n",
    "\n"
   ]
  },
  {
   "cell_type": "markdown",
   "metadata": {},
   "source": [
    "## 2. What is an appropriate set of hypotheses for this task? What kind of statistical test do you expect to perform? Justify your choices.\n",
    "\n",
    "From the fact that our brain processes text faster than colour,when we do the congruent word test we are having dual information from both text and color but for incongruent words test those both dont match and cause a confusion in recognising the color.\n",
    "\n",
    ">The $H_{O}$(null hypothesis) is mean time taken to recognize the colors of ink for congruent words is equal to or greater than the mean time for incongruent words, so one-tailed t test is to be conducted. The $H_{A}$ (alternative hypothesis) is the congruent words mean is less than the incongruent words mean. \n",
    "\n",
    "$$ H_{O} = \\mu_{C} \\geq \\mu_{I} $$\n",
    "\n",
    "$$ H_{A} = \\mu_{C} <  \\mu_{I} $$\n",
    "\n",
    ">#### $ \\mu_{C}$ is the mean of the time taken to recognize the color under the congruent condition\n",
    "\n",
    ">#### $\\mu_{I}$is the mean ofthe time taken to recognize the color  under the incongruent condition\n",
    "\n",
    "### Dependent-samples one-tailed t-test is to be performed:\n",
    "\n",
    "\n",
    "> We perform this test to find weather the time taken to recognize the congruent words is statistically less than the time taken to recognize the incongruent words for the total population.\n",
    ">This test we are trying to assess whether the sample means are different because the two populations and population means are different or just by chance.\n",
    "\n",
    "\n",
    ">T test because we are not having data of total populations mean or variance. And the size is less than 30 ,where cannot be approximated to normal distribution, so we cannot use z test.\n",
    "- The above data is a sample from a population\n",
    "- From the data it is clear that the same group has undergone through two treatments of congruent and incongruent tests,which are dependent samples\n",
    "\n",
    ">One-sided  t test, because to recognize the colour of incogruent words seems difficult, form the fact that processing speed of text is much faster than color, i wanted to examine whether the time was significantly longer for incongruent test compared to congruent test. \n",
    "\n"
   ]
  },
  {
   "cell_type": "markdown",
   "metadata": {},
   "source": [
    "## 3. Report some descriptive statistics regarding this dataset. Include at least one measure of central tendency and at least one measure of variability.\n",
    "\n"
   ]
  },
  {
   "cell_type": "code",
   "execution_count": 2,
   "metadata": {
    "collapsed": false
   },
   "outputs": [
    {
     "data": {
      "text/html": [
       "<div>\n",
       "<table border=\"1\" class=\"dataframe\">\n",
       "  <thead>\n",
       "    <tr style=\"text-align: right;\">\n",
       "      <th></th>\n",
       "      <th>Mean</th>\n",
       "      <th>Median</th>\n",
       "      <th>Standard deviation</th>\n",
       "      <th>Variance</th>\n",
       "    </tr>\n",
       "  </thead>\n",
       "  <tbody>\n",
       "    <tr>\n",
       "      <th>Congruent</th>\n",
       "      <td>14.051125</td>\n",
       "      <td>14.3565</td>\n",
       "      <td>3.559358</td>\n",
       "      <td>12.669029</td>\n",
       "    </tr>\n",
       "    <tr>\n",
       "      <th>Incongruent</th>\n",
       "      <td>22.015917</td>\n",
       "      <td>21.0175</td>\n",
       "      <td>4.797057</td>\n",
       "      <td>23.011757</td>\n",
       "    </tr>\n",
       "    <tr>\n",
       "      <th>Difference</th>\n",
       "      <td>-7.964792</td>\n",
       "      <td>-7.6665</td>\n",
       "      <td>4.864827</td>\n",
       "      <td>23.666541</td>\n",
       "    </tr>\n",
       "  </tbody>\n",
       "</table>\n",
       "</div>"
      ],
      "text/plain": [
       "                  Mean   Median  Standard deviation   Variance\n",
       "Congruent    14.051125  14.3565            3.559358  12.669029\n",
       "Incongruent  22.015917  21.0175            4.797057  23.011757\n",
       "Difference   -7.964792  -7.6665            4.864827  23.666541"
      ]
     },
     "execution_count": 2,
     "metadata": {},
     "output_type": "execute_result"
    }
   ],
   "source": [
    "df=pd.DataFrame({\"Mean\":data.mean(),\"Median\":data.median(),\"Variance\":data.var(),\"Standard deviation\":data.std()})\n",
    "\n",
    "df\n"
   ]
  },
  {
   "cell_type": "markdown",
   "metadata": {},
   "source": [
    "> #### From the above table we can see :\n",
    "- Central tendency of differences in groups -7.9648,\n",
    "- Variability of groups \n",
    "\n",
    ">>Congruent groups\n",
    ">> - Variance is 12.67\n",
    ">> - Standard deviation is 3.55\n",
    "\n",
    ">> Incongruent groups \n",
    ">> - Variance is 23.012\n",
    ">> - Standard deviation is 4.8\n",
    "\n",
    ">> Difference\n",
    ">> - Variance is 23.67\n",
    ">> - Standard deviation is 4.86\n",
    "\n",
    "\n",
    "\n"
   ]
  },
  {
   "cell_type": "markdown",
   "metadata": {},
   "source": [
    "## 4. Provide one or two visualizations that show the distribution of the sample data. Write one or two sentences noting what you observe about the plot or plots.\n",
    "\n"
   ]
  },
  {
   "cell_type": "code",
   "execution_count": 3,
   "metadata": {
    "collapsed": false
   },
   "outputs": [
    {
     "data": {
      "image/png": "[encoded data removed]",
      "text/plain": [
       "<matplotlib.figure.Figure at 0xbc737b8>"
      ]
     },
     "metadata": {},
     "output_type": "display_data"
    }
   ],
   "source": [
    "# We are comparing both incongruent and congruent data \n",
    "#Distplot divides the data into several bins and the occurance is shown as density of that value in that bin\n",
    "import seaborn as sns\n",
    "for a  in [\"Congruent\",\"Incongruent\"]:\n",
    "    sns.distplot(data[a], label=a)\n",
    "plt.ylabel(\"Density\")\n",
    "plt.title('Histogram Comparision')  \n",
    "plt.xlabel(\"Time taken to recognize\")\n",
    "plt.legend();"
   ]
  },
  {
   "cell_type": "markdown",
   "metadata": {},
   "source": [
    "### From the above plot :\n",
    ">- The congruent group appears normally distributed,\n",
    "- The incongruent group appears to be bimodal, with 2 normal distributions.(this might be clear if we observe the total population)\n",
    "- comparing both,incongruent distribution is having higher values as expected"
   ]
  },
  {
   "cell_type": "code",
   "execution_count": 11,
   "metadata": {
    "collapsed": false
   },
   "outputs": [
    {
     "data": {
      "text/plain": [
       "<matplotlib.text.Text at 0xbf306a0>"
      ]
     },
     "execution_count": 11,
     "metadata": {},
     "output_type": "execute_result"
    },
    {
     "data": {
      "image/png": "[encoded data removed]",
      "text/plain": [
       "<matplotlib.figure.Figure at 0x9ac14a8>"
      ]
     },
     "metadata": {},
     "output_type": "display_data"
    }
   ],
   "source": [
    "sns.factorplot( data=data[[\"Congruent\",\"Incongruent\"]], kind=\"box\", size=7, aspect=.8)\\\n",
    ".set_xticklabels([\"Congruent\",\"Incongruent\"])\n",
    "plt.title('Boxplot Comparision')  \n",
    "plt.ylabel(\"Time taken to recognize\")"
   ]
  },
  {
   "cell_type": "markdown",
   "metadata": {},
   "source": [
    "### From the above boxplot:\n",
    "- We can see two outliers for the incongruent test.\n",
    "- The mean time taken for the incongruent test is higher than the congruent test\n",
    "\n",
    "\n",
    "So lets conform by contucting the t test"
   ]
  },
  {
   "cell_type": "markdown",
   "metadata": {},
   "source": [
    "## 5. Now, perform the statistical test and report your results. What is your confidence level and your critical statistic value? Do you reject the null hypothesis or fail to reject it? Come to a conclusion in terms of the experiment task. Did the results match up with your expectations?\n",
    "\n"
   ]
  },
  {
   "cell_type": "markdown",
   "metadata": {},
   "source": [
    ">$ \\mu_{Congruent} = 14.05113 $\n",
    "\n",
    ">$ \\mu_{Incongruent} = 22.01592$\n",
    "\n",
    ">$ \\mu_{Difference} = - 7.96479 $\n",
    "\n",
    ">$Standard-Error_{Differences} = SE_{d} =\\frac{\\sigma}{\\sqrt{n}}=\\frac{4.864827}{\\sqrt{24}}=0.993029$\n",
    "\n",
    ">$ df = 𝑛 − 1 = 24 − 1 = 23$\n",
    "\n",
    ">- t-critical value for a one-tailed test with $\\alpha = 0.05$ and 𝑑𝑓 = 23 ,t-critical = −1.714(left tail)\n",
    "\n",
    ">$t=\\frac{\\mu_{d}}{SEd}=\\frac{ -7.96479}{0.993029}=-8.021$\n",
    "\n",
    ">- The p-value for a t-statistic of -8.021 with df=23 is very small; it is $p < 0.00001$\n",
    "\n",
    ">### Since -8.0211 < -1.714 , we Reject Null Hypothesis with 95% confidence.\n",
    ">#### -  Concluding that form the fact that speed of processing of text is much faster than color, proving stroop effect to be true.\n",
    "\n"
   ]
  },
  {
   "cell_type": "markdown",
   "metadata": {},
   "source": [
    "## Refrences:\n",
    "- http://seaborn.pydata.org/tutorial/distributions.html\n",
    "- https://en.wikipedia.org/wiki/Stroop_effect\n",
    "- https://gist.github.com/wrobstory/c990c94fc4598a440e7f"
   ]
  }
 ],
 "metadata": {
  "anaconda-cloud": {},
  "kernelspec": {
   "display_name": "Python 2",
   "language": "python",
   "name": "python2"
  },
  "language_info": {
   "codemirror_mode": {
    "name": "ipython",
    "version": 2
   },
   "file_extension": ".py",
   "mimetype": "text/x-python",
   "name": "python",
   "nbconvert_exporter": "python",
   "pygments_lexer": "ipython2",
   "version": "2.7.13"
  }
 },
 "nbformat": 4,
 "nbformat_minor": 1
}
