{
 "cells": [
  {
   "cell_type": "markdown",
   "metadata": {
    "collapsed": true
   },
   "source": [
    "# Q1\n",
    " ### Summarize for us the goal of this project and how machine learning is useful in trying to accomplish it. As part of your answer, give some background on the dataset and how it can be used to answer the project question. Were there any outliers in the data when you got it, and how did you handle those?"
   ]
  },
  {
   "cell_type": "markdown",
   "metadata": {},
   "source": [
    "> #### Introduction to Enron Dataset\n",
    ">Enron was one of the largest companies in the United States resulting into bankruptcy due to corporate fraud  which is one of the largest bankruptcies in U.S. History.In the resulting Federal investigation, there was a significant amount of typically confidential information entered into public record, including tens of thousands of emails and detailed financial data for top executives.\n",
    "\n",
    ">The main goal is identifying person of interests (POI's) using supervised machine learning algorithms for prediction.This model will classify weather the individual is a POI or notPOI by  using rest of the features available and various machine learning algorithms.\n"
   ]
  },
  {
   "cell_type": "code",
   "execution_count": 1,
   "metadata": {
    "collapsed": false
   },
   "outputs": [
    {
     "name": "stderr",
     "output_type": "stream",
     "text": [
      "D:\\Anaconda2\\lib\\site-packages\\sklearn\\cross_validation.py:44: DeprecationWarning: This module was deprecated in version 0.18 in favor of the model_selection module into which all the refactored classes and functions are moved. Also note that the interface of the new CV iterators are different from that of this module. This module will be removed in 0.20.\n",
      "  \"This module will be removed in 0.20.\", DeprecationWarning)\n"
     ]
    }
   ],
   "source": [
    "#!/usr/bin/python\n",
    "\n",
    "import sys\n",
    "import pickle\n",
    "sys.path.append(\"../tools/\")\n",
    "\n",
    "from feature_format import featureFormat, targetFeatureSplit\n",
    "from tester import dump_classifier_and_data\n",
    "\n",
    "### Task 1: Select what features you'll use.\n",
    "### features_list is a list of strings, each of which is a feature name.\n",
    "### The first feature must be \"poi\".\n",
    "financial_features = ['salary', 'deferral_payments', 'total_payments',\n",
    "'loan_advances', 'bonus', 'restricted_stock_deferred', 'deferred_income',\n",
    "'total_stock_value', 'expenses', 'exercised_stock_options', 'other',\n",
    "'long_term_incentive', 'restricted_stock', 'director_fees']#(all units are in US dollars)\n",
    "\n",
    "email_features = ['to_messages', 'from_poi_to_this_person', 'email_address',\n",
    "'from_messages', 'from_this_person_to_poi', 'shared_receipt_with_poi']\n",
    "#(units are generally number of emails messages;\n",
    "#notable exception is ‘email_address’, which is a text string)\n",
    "\n",
    "poi_label = ['poi']# (boolean, represented as integer)\n",
    "\n",
    "\n",
    "features_list = poi_label + financial_features + email_features\n",
    "\n",
    "### Load the dictionary containing the dataset\n",
    "with open(\"final_project_dataset.pkl\", \"r\") as data_file:\n",
    "    data_dict = pickle.load(data_file)\n",
    "\n",
    "\n",
    "\n",
    "\n",
    "\n",
    "\n"
   ]
  },
  {
   "cell_type": "code",
   "execution_count": 2,
   "metadata": {
    "collapsed": false
   },
   "outputs": [
    {
     "name": "stdout",
     "output_type": "stream",
     "text": [
      "total poi in dataset: 18\n"
     ]
    },
    {
     "data": {
      "text/html": [
       "<div>\n",
       "<table border=\"1\" class=\"dataframe\">\n",
       "  <thead>\n",
       "    <tr style=\"text-align: right;\">\n",
       "      <th></th>\n",
       "      <th>salary</th>\n",
       "      <th>to_messages</th>\n",
       "      <th>deferral_payments</th>\n",
       "      <th>total_payments</th>\n",
       "      <th>exercised_stock_options</th>\n",
       "      <th>bonus</th>\n",
       "      <th>restricted_stock</th>\n",
       "      <th>shared_receipt_with_poi</th>\n",
       "      <th>restricted_stock_deferred</th>\n",
       "      <th>total_stock_value</th>\n",
       "      <th>...</th>\n",
       "      <th>loan_advances</th>\n",
       "      <th>from_messages</th>\n",
       "      <th>other</th>\n",
       "      <th>from_this_person_to_poi</th>\n",
       "      <th>poi</th>\n",
       "      <th>director_fees</th>\n",
       "      <th>deferred_income</th>\n",
       "      <th>long_term_incentive</th>\n",
       "      <th>email_address</th>\n",
       "      <th>from_poi_to_this_person</th>\n",
       "    </tr>\n",
       "  </thead>\n",
       "  <tbody>\n",
       "    <tr>\n",
       "      <th>count</th>\n",
       "      <td>146</td>\n",
       "      <td>146</td>\n",
       "      <td>146</td>\n",
       "      <td>146</td>\n",
       "      <td>146</td>\n",
       "      <td>146</td>\n",
       "      <td>146</td>\n",
       "      <td>146</td>\n",
       "      <td>146</td>\n",
       "      <td>146</td>\n",
       "      <td>...</td>\n",
       "      <td>146</td>\n",
       "      <td>146</td>\n",
       "      <td>146</td>\n",
       "      <td>146</td>\n",
       "      <td>146</td>\n",
       "      <td>146</td>\n",
       "      <td>146</td>\n",
       "      <td>146</td>\n",
       "      <td>146</td>\n",
       "      <td>146</td>\n",
       "    </tr>\n",
       "    <tr>\n",
       "      <th>unique</th>\n",
       "      <td>95</td>\n",
       "      <td>87</td>\n",
       "      <td>40</td>\n",
       "      <td>126</td>\n",
       "      <td>102</td>\n",
       "      <td>42</td>\n",
       "      <td>98</td>\n",
       "      <td>84</td>\n",
       "      <td>19</td>\n",
       "      <td>125</td>\n",
       "      <td>...</td>\n",
       "      <td>5</td>\n",
       "      <td>65</td>\n",
       "      <td>93</td>\n",
       "      <td>42</td>\n",
       "      <td>2</td>\n",
       "      <td>18</td>\n",
       "      <td>45</td>\n",
       "      <td>53</td>\n",
       "      <td>112</td>\n",
       "      <td>58</td>\n",
       "    </tr>\n",
       "    <tr>\n",
       "      <th>top</th>\n",
       "      <td>NaN</td>\n",
       "      <td>NaN</td>\n",
       "      <td>NaN</td>\n",
       "      <td>NaN</td>\n",
       "      <td>NaN</td>\n",
       "      <td>NaN</td>\n",
       "      <td>NaN</td>\n",
       "      <td>NaN</td>\n",
       "      <td>NaN</td>\n",
       "      <td>NaN</td>\n",
       "      <td>...</td>\n",
       "      <td>NaN</td>\n",
       "      <td>NaN</td>\n",
       "      <td>NaN</td>\n",
       "      <td>NaN</td>\n",
       "      <td>False</td>\n",
       "      <td>NaN</td>\n",
       "      <td>NaN</td>\n",
       "      <td>NaN</td>\n",
       "      <td>NaN</td>\n",
       "      <td>NaN</td>\n",
       "    </tr>\n",
       "    <tr>\n",
       "      <th>freq</th>\n",
       "      <td>51</td>\n",
       "      <td>60</td>\n",
       "      <td>107</td>\n",
       "      <td>21</td>\n",
       "      <td>44</td>\n",
       "      <td>64</td>\n",
       "      <td>36</td>\n",
       "      <td>60</td>\n",
       "      <td>128</td>\n",
       "      <td>20</td>\n",
       "      <td>...</td>\n",
       "      <td>142</td>\n",
       "      <td>60</td>\n",
       "      <td>53</td>\n",
       "      <td>60</td>\n",
       "      <td>128</td>\n",
       "      <td>129</td>\n",
       "      <td>97</td>\n",
       "      <td>80</td>\n",
       "      <td>35</td>\n",
       "      <td>60</td>\n",
       "    </tr>\n",
       "  </tbody>\n",
       "</table>\n",
       "<p>4 rows × 21 columns</p>\n",
       "</div>"
      ],
      "text/plain": [
       "       salary to_messages deferral_payments total_payments  \\\n",
       "count     146         146               146            146   \n",
       "unique     95          87                40            126   \n",
       "top       NaN         NaN               NaN            NaN   \n",
       "freq       51          60               107             21   \n",
       "\n",
       "       exercised_stock_options bonus restricted_stock shared_receipt_with_poi  \\\n",
       "count                      146   146              146                     146   \n",
       "unique                     102    42               98                      84   \n",
       "top                        NaN   NaN              NaN                     NaN   \n",
       "freq                        44    64               36                      60   \n",
       "\n",
       "       restricted_stock_deferred total_stock_value           ...            \\\n",
       "count                        146               146           ...             \n",
       "unique                        19               125           ...             \n",
       "top                          NaN               NaN           ...             \n",
       "freq                         128                20           ...             \n",
       "\n",
       "       loan_advances from_messages other from_this_person_to_poi    poi  \\\n",
       "count            146           146   146                     146    146   \n",
       "unique             5            65    93                      42      2   \n",
       "top              NaN           NaN   NaN                     NaN  False   \n",
       "freq             142            60    53                      60    128   \n",
       "\n",
       "       director_fees deferred_income long_term_incentive email_address  \\\n",
       "count            146             146                 146           146   \n",
       "unique            18              45                  53           112   \n",
       "top              NaN             NaN                 NaN           NaN   \n",
       "freq             129              97                  80            35   \n",
       "\n",
       "       from_poi_to_this_person  \n",
       "count                      146  \n",
       "unique                      58  \n",
       "top                        NaN  \n",
       "freq                        60  \n",
       "\n",
       "[4 rows x 21 columns]"
      ]
     },
     "execution_count": 2,
     "metadata": {},
     "output_type": "execute_result"
    }
   ],
   "source": [
    "import pandas as pd\n",
    "import numpy as np\n",
    "enron= pd.DataFrame.from_dict(data_dict, orient = 'index')\n",
    "print\"total poi in dataset:\", sum(enron['poi']==1)\n",
    "\n",
    "enron.describe()\n",
    "#We can see all the null values for each index\n"
   ]
  },
  {
   "cell_type": "code",
   "execution_count": 3,
   "metadata": {
    "collapsed": false
   },
   "outputs": [
    {
     "name": "stdout",
     "output_type": "stream",
     "text": [
      "<class 'pandas.core.frame.DataFrame'>\n",
      "Index: 146 entries, ALLEN PHILLIP K to YEAP SOON\n",
      "Data columns (total 21 columns):\n",
      "salary                       95 non-null float64\n",
      "to_messages                  86 non-null float64\n",
      "deferral_payments            39 non-null float64\n",
      "total_payments               125 non-null float64\n",
      "exercised_stock_options      102 non-null float64\n",
      "bonus                        82 non-null float64\n",
      "restricted_stock             110 non-null float64\n",
      "shared_receipt_with_poi      86 non-null float64\n",
      "restricted_stock_deferred    18 non-null float64\n",
      "total_stock_value            126 non-null float64\n",
      "expenses                     95 non-null float64\n",
      "loan_advances                4 non-null float64\n",
      "from_messages                86 non-null float64\n",
      "other                        93 non-null float64\n",
      "from_this_person_to_poi      86 non-null float64\n",
      "poi                          146 non-null bool\n",
      "director_fees                17 non-null float64\n",
      "deferred_income              49 non-null float64\n",
      "long_term_incentive          66 non-null float64\n",
      "email_address                111 non-null object\n",
      "from_poi_to_this_person      86 non-null float64\n",
      "dtypes: bool(1), float64(19), object(1)\n",
      "memory usage: 24.1+ KB\n",
      "None\n"
     ]
    },
    {
     "data": {
      "text/html": [
       "<div>\n",
       "<table border=\"1\" class=\"dataframe\">\n",
       "  <thead>\n",
       "    <tr style=\"text-align: right;\">\n",
       "      <th></th>\n",
       "      <th>salary</th>\n",
       "      <th>to_messages</th>\n",
       "      <th>deferral_payments</th>\n",
       "      <th>total_payments</th>\n",
       "      <th>exercised_stock_options</th>\n",
       "      <th>bonus</th>\n",
       "      <th>restricted_stock</th>\n",
       "      <th>shared_receipt_with_poi</th>\n",
       "      <th>restricted_stock_deferred</th>\n",
       "      <th>total_stock_value</th>\n",
       "      <th>expenses</th>\n",
       "      <th>loan_advances</th>\n",
       "      <th>from_messages</th>\n",
       "      <th>other</th>\n",
       "      <th>from_this_person_to_poi</th>\n",
       "      <th>director_fees</th>\n",
       "      <th>deferred_income</th>\n",
       "      <th>long_term_incentive</th>\n",
       "      <th>from_poi_to_this_person</th>\n",
       "    </tr>\n",
       "  </thead>\n",
       "  <tbody>\n",
       "    <tr>\n",
       "      <th>count</th>\n",
       "      <td>9.500000e+01</td>\n",
       "      <td>86.000000</td>\n",
       "      <td>3.900000e+01</td>\n",
       "      <td>1.250000e+02</td>\n",
       "      <td>1.020000e+02</td>\n",
       "      <td>8.200000e+01</td>\n",
       "      <td>1.100000e+02</td>\n",
       "      <td>86.000000</td>\n",
       "      <td>1.800000e+01</td>\n",
       "      <td>1.260000e+02</td>\n",
       "      <td>9.500000e+01</td>\n",
       "      <td>4.000000e+00</td>\n",
       "      <td>86.000000</td>\n",
       "      <td>9.300000e+01</td>\n",
       "      <td>86.000000</td>\n",
       "      <td>1.700000e+01</td>\n",
       "      <td>4.900000e+01</td>\n",
       "      <td>6.600000e+01</td>\n",
       "      <td>86.000000</td>\n",
       "    </tr>\n",
       "    <tr>\n",
       "      <th>mean</th>\n",
       "      <td>5.621943e+05</td>\n",
       "      <td>2073.860465</td>\n",
       "      <td>1.642674e+06</td>\n",
       "      <td>5.081526e+06</td>\n",
       "      <td>5.987054e+06</td>\n",
       "      <td>2.374235e+06</td>\n",
       "      <td>2.321741e+06</td>\n",
       "      <td>1176.465116</td>\n",
       "      <td>1.664106e+05</td>\n",
       "      <td>6.773957e+06</td>\n",
       "      <td>1.087289e+05</td>\n",
       "      <td>4.196250e+07</td>\n",
       "      <td>608.790698</td>\n",
       "      <td>9.190650e+05</td>\n",
       "      <td>41.232558</td>\n",
       "      <td>1.668049e+05</td>\n",
       "      <td>-1.140475e+06</td>\n",
       "      <td>1.470361e+06</td>\n",
       "      <td>64.895349</td>\n",
       "    </tr>\n",
       "    <tr>\n",
       "      <th>std</th>\n",
       "      <td>2.716369e+06</td>\n",
       "      <td>2582.700981</td>\n",
       "      <td>5.161930e+06</td>\n",
       "      <td>2.906172e+07</td>\n",
       "      <td>3.106201e+07</td>\n",
       "      <td>1.071333e+07</td>\n",
       "      <td>1.251828e+07</td>\n",
       "      <td>1178.317641</td>\n",
       "      <td>4.201494e+06</td>\n",
       "      <td>3.895777e+07</td>\n",
       "      <td>5.335348e+05</td>\n",
       "      <td>4.708321e+07</td>\n",
       "      <td>1841.033949</td>\n",
       "      <td>4.589253e+06</td>\n",
       "      <td>100.073111</td>\n",
       "      <td>3.198914e+05</td>\n",
       "      <td>4.025406e+06</td>\n",
       "      <td>5.942759e+06</td>\n",
       "      <td>86.979244</td>\n",
       "    </tr>\n",
       "    <tr>\n",
       "      <th>min</th>\n",
       "      <td>4.770000e+02</td>\n",
       "      <td>57.000000</td>\n",
       "      <td>-1.025000e+05</td>\n",
       "      <td>1.480000e+02</td>\n",
       "      <td>3.285000e+03</td>\n",
       "      <td>7.000000e+04</td>\n",
       "      <td>-2.604490e+06</td>\n",
       "      <td>2.000000</td>\n",
       "      <td>-7.576788e+06</td>\n",
       "      <td>-4.409300e+04</td>\n",
       "      <td>1.480000e+02</td>\n",
       "      <td>4.000000e+05</td>\n",
       "      <td>12.000000</td>\n",
       "      <td>2.000000e+00</td>\n",
       "      <td>0.000000</td>\n",
       "      <td>3.285000e+03</td>\n",
       "      <td>-2.799289e+07</td>\n",
       "      <td>6.922300e+04</td>\n",
       "      <td>0.000000</td>\n",
       "    </tr>\n",
       "    <tr>\n",
       "      <th>25%</th>\n",
       "      <td>2.118160e+05</td>\n",
       "      <td>541.250000</td>\n",
       "      <td>8.157300e+04</td>\n",
       "      <td>3.944750e+05</td>\n",
       "      <td>5.278862e+05</td>\n",
       "      <td>4.312500e+05</td>\n",
       "      <td>2.540180e+05</td>\n",
       "      <td>249.750000</td>\n",
       "      <td>-3.896218e+05</td>\n",
       "      <td>4.945102e+05</td>\n",
       "      <td>2.261400e+04</td>\n",
       "      <td>1.600000e+06</td>\n",
       "      <td>22.750000</td>\n",
       "      <td>1.215000e+03</td>\n",
       "      <td>1.000000</td>\n",
       "      <td>9.878400e+04</td>\n",
       "      <td>-6.948620e+05</td>\n",
       "      <td>2.812500e+05</td>\n",
       "      <td>10.000000</td>\n",
       "    </tr>\n",
       "    <tr>\n",
       "      <th>50%</th>\n",
       "      <td>2.599960e+05</td>\n",
       "      <td>1211.000000</td>\n",
       "      <td>2.274490e+05</td>\n",
       "      <td>1.101393e+06</td>\n",
       "      <td>1.310814e+06</td>\n",
       "      <td>7.693750e+05</td>\n",
       "      <td>4.517400e+05</td>\n",
       "      <td>740.500000</td>\n",
       "      <td>-1.469750e+05</td>\n",
       "      <td>1.102872e+06</td>\n",
       "      <td>4.695000e+04</td>\n",
       "      <td>4.176250e+07</td>\n",
       "      <td>41.000000</td>\n",
       "      <td>5.238200e+04</td>\n",
       "      <td>8.000000</td>\n",
       "      <td>1.085790e+05</td>\n",
       "      <td>-1.597920e+05</td>\n",
       "      <td>4.420350e+05</td>\n",
       "      <td>35.000000</td>\n",
       "    </tr>\n",
       "    <tr>\n",
       "      <th>75%</th>\n",
       "      <td>3.121170e+05</td>\n",
       "      <td>2634.750000</td>\n",
       "      <td>1.002672e+06</td>\n",
       "      <td>2.093263e+06</td>\n",
       "      <td>2.547724e+06</td>\n",
       "      <td>1.200000e+06</td>\n",
       "      <td>1.002370e+06</td>\n",
       "      <td>1888.250000</td>\n",
       "      <td>-7.500975e+04</td>\n",
       "      <td>2.949847e+06</td>\n",
       "      <td>7.995250e+04</td>\n",
       "      <td>8.212500e+07</td>\n",
       "      <td>145.500000</td>\n",
       "      <td>3.620960e+05</td>\n",
       "      <td>24.750000</td>\n",
       "      <td>1.137840e+05</td>\n",
       "      <td>-3.834600e+04</td>\n",
       "      <td>9.386720e+05</td>\n",
       "      <td>72.250000</td>\n",
       "    </tr>\n",
       "    <tr>\n",
       "      <th>max</th>\n",
       "      <td>2.670423e+07</td>\n",
       "      <td>15149.000000</td>\n",
       "      <td>3.208340e+07</td>\n",
       "      <td>3.098866e+08</td>\n",
       "      <td>3.117640e+08</td>\n",
       "      <td>9.734362e+07</td>\n",
       "      <td>1.303223e+08</td>\n",
       "      <td>5521.000000</td>\n",
       "      <td>1.545629e+07</td>\n",
       "      <td>4.345095e+08</td>\n",
       "      <td>5.235198e+06</td>\n",
       "      <td>8.392500e+07</td>\n",
       "      <td>14368.000000</td>\n",
       "      <td>4.266759e+07</td>\n",
       "      <td>609.000000</td>\n",
       "      <td>1.398517e+06</td>\n",
       "      <td>-8.330000e+02</td>\n",
       "      <td>4.852193e+07</td>\n",
       "      <td>528.000000</td>\n",
       "    </tr>\n",
       "  </tbody>\n",
       "</table>\n",
       "</div>"
      ],
      "text/plain": [
       "             salary   to_messages  deferral_payments  total_payments  \\\n",
       "count  9.500000e+01     86.000000       3.900000e+01    1.250000e+02   \n",
       "mean   5.621943e+05   2073.860465       1.642674e+06    5.081526e+06   \n",
       "std    2.716369e+06   2582.700981       5.161930e+06    2.906172e+07   \n",
       "min    4.770000e+02     57.000000      -1.025000e+05    1.480000e+02   \n",
       "25%    2.118160e+05    541.250000       8.157300e+04    3.944750e+05   \n",
       "50%    2.599960e+05   1211.000000       2.274490e+05    1.101393e+06   \n",
       "75%    3.121170e+05   2634.750000       1.002672e+06    2.093263e+06   \n",
       "max    2.670423e+07  15149.000000       3.208340e+07    3.098866e+08   \n",
       "\n",
       "       exercised_stock_options         bonus  restricted_stock  \\\n",
       "count             1.020000e+02  8.200000e+01      1.100000e+02   \n",
       "mean              5.987054e+06  2.374235e+06      2.321741e+06   \n",
       "std               3.106201e+07  1.071333e+07      1.251828e+07   \n",
       "min               3.285000e+03  7.000000e+04     -2.604490e+06   \n",
       "25%               5.278862e+05  4.312500e+05      2.540180e+05   \n",
       "50%               1.310814e+06  7.693750e+05      4.517400e+05   \n",
       "75%               2.547724e+06  1.200000e+06      1.002370e+06   \n",
       "max               3.117640e+08  9.734362e+07      1.303223e+08   \n",
       "\n",
       "       shared_receipt_with_poi  restricted_stock_deferred  total_stock_value  \\\n",
       "count                86.000000               1.800000e+01       1.260000e+02   \n",
       "mean               1176.465116               1.664106e+05       6.773957e+06   \n",
       "std                1178.317641               4.201494e+06       3.895777e+07   \n",
       "min                   2.000000              -7.576788e+06      -4.409300e+04   \n",
       "25%                 249.750000              -3.896218e+05       4.945102e+05   \n",
       "50%                 740.500000              -1.469750e+05       1.102872e+06   \n",
       "75%                1888.250000              -7.500975e+04       2.949847e+06   \n",
       "max                5521.000000               1.545629e+07       4.345095e+08   \n",
       "\n",
       "           expenses  loan_advances  from_messages         other  \\\n",
       "count  9.500000e+01   4.000000e+00      86.000000  9.300000e+01   \n",
       "mean   1.087289e+05   4.196250e+07     608.790698  9.190650e+05   \n",
       "std    5.335348e+05   4.708321e+07    1841.033949  4.589253e+06   \n",
       "min    1.480000e+02   4.000000e+05      12.000000  2.000000e+00   \n",
       "25%    2.261400e+04   1.600000e+06      22.750000  1.215000e+03   \n",
       "50%    4.695000e+04   4.176250e+07      41.000000  5.238200e+04   \n",
       "75%    7.995250e+04   8.212500e+07     145.500000  3.620960e+05   \n",
       "max    5.235198e+06   8.392500e+07   14368.000000  4.266759e+07   \n",
       "\n",
       "       from_this_person_to_poi  director_fees  deferred_income  \\\n",
       "count                86.000000   1.700000e+01     4.900000e+01   \n",
       "mean                 41.232558   1.668049e+05    -1.140475e+06   \n",
       "std                 100.073111   3.198914e+05     4.025406e+06   \n",
       "min                   0.000000   3.285000e+03    -2.799289e+07   \n",
       "25%                   1.000000   9.878400e+04    -6.948620e+05   \n",
       "50%                   8.000000   1.085790e+05    -1.597920e+05   \n",
       "75%                  24.750000   1.137840e+05    -3.834600e+04   \n",
       "max                 609.000000   1.398517e+06    -8.330000e+02   \n",
       "\n",
       "       long_term_incentive  from_poi_to_this_person  \n",
       "count         6.600000e+01                86.000000  \n",
       "mean          1.470361e+06                64.895349  \n",
       "std           5.942759e+06                86.979244  \n",
       "min           6.922300e+04                 0.000000  \n",
       "25%           2.812500e+05                10.000000  \n",
       "50%           4.420350e+05                35.000000  \n",
       "75%           9.386720e+05                72.250000  \n",
       "max           4.852193e+07               528.000000  "
      ]
     },
     "execution_count": 3,
     "metadata": {},
     "output_type": "execute_result"
    }
   ],
   "source": [
    "enron = enron.replace('NaN', np.nan)\n",
    "print(enron.info())\n",
    "enron.describe()"
   ]
  },
  {
   "cell_type": "markdown",
   "metadata": {},
   "source": [
    "From th above information about dataset we can conlcude that any point with less than 73 non-null  will be having more than 50%\n",
    "of missing data.\n",
    "And the features seem to be in more than 50% null group\n",
    "\n",
    "|Feature|No.of non-null out of 146|\n",
    "|---|---|\n",
    "|deferral_payments        |    39 non-null| \n",
    "|restricted_stock_deferred   | 18 non-null|\n",
    "|loan_advances          |      4 non-null|\n",
    "|director_fees            |    17 non-null |\n",
    "|deferred_income          |    49 non-null |\n",
    "|long_term_incentive      |    66 non-null |\n"
   ]
  },
  {
   "cell_type": "code",
   "execution_count": 4,
   "metadata": {
    "collapsed": false,
    "scrolled": true
   },
   "outputs": [
    {
     "name": "stdout",
     "output_type": "stream",
     "text": [
      "<class 'pandas.core.frame.DataFrame'>\n",
      "Index: 18 entries, BELDEN TIMOTHY N to YEAGER F SCOTT\n",
      "Data columns (total 6 columns):\n",
      "loan_advances                1 non-null float64\n",
      "director_fees                0 non-null float64\n",
      "restricted_stock_deferred    0 non-null float64\n",
      "deferral_payments            5 non-null float64\n",
      "deferred_income              11 non-null float64\n",
      "long_term_incentive          12 non-null float64\n",
      "dtypes: float64(6)\n",
      "memory usage: 1008.0+ bytes\n"
     ]
    }
   ],
   "source": [
    "#now checking these features for poi to conclude how much of data is missing for a poi .\n",
    "missing = ['loan_advances', 'director_fees', 'restricted_stock_deferred',\\\n",
    "           'deferral_payments', 'deferred_income', 'long_term_incentive']\n",
    "enron_poi=enron[enron['poi']==1][missing]\n",
    "enron_poi.info()"
   ]
  },
  {
   "cell_type": "code",
   "execution_count": 5,
   "metadata": {
    "collapsed": false
   },
   "outputs": [
    {
     "data": {
      "text/plain": [
       "['poi',\n",
       " 'salary',\n",
       " 'deferral_payments',\n",
       " 'total_payments',\n",
       " 'bonus',\n",
       " 'deferred_income',\n",
       " 'total_stock_value',\n",
       " 'expenses',\n",
       " 'exercised_stock_options',\n",
       " 'other',\n",
       " 'long_term_incentive',\n",
       " 'restricted_stock',\n",
       " 'to_messages',\n",
       " 'from_poi_to_this_person',\n",
       " 'email_address',\n",
       " 'from_messages',\n",
       " 'from_this_person_to_poi',\n",
       " 'shared_receipt_with_poi']"
      ]
     },
     "execution_count": 5,
     "metadata": {},
     "output_type": "execute_result"
    }
   ],
   "source": [
    "# its better to remove these with less non null values\n",
    "removing = ['loan_advances', 'director_fees', 'restricted_stock_deferred']\n",
    "for x in removing:\n",
    "    if x in features_list:\n",
    "        features_list.remove(x)\n",
    "features_list"
   ]
  },
  {
   "cell_type": "code",
   "execution_count": 6,
   "metadata": {
    "collapsed": false,
    "scrolled": true
   },
   "outputs": [
    {
     "data": {
      "image/png": "[encoded data removed]",
      "text/plain": [
       "<matplotlib.figure.Figure at 0xb159828>"
      ]
     },
     "metadata": {},
     "output_type": "display_data"
    }
   ],
   "source": [
    "### Task 2: Remove outliers\n",
    "#visualising the outlier\n",
    "\n",
    "import matplotlib.pyplot\n",
    "\n",
    "e = enron[(enron.total_payments != np.nan) & (enron.total_stock_value != np.nan)]\n",
    "\n",
    "matplotlib.pyplot.scatter(x=\"total_payments\", y=\"total_stock_value\", data=e)\n",
    "\n",
    "matplotlib.pyplot.xlabel(\"total_payments\")\n",
    "matplotlib.pyplot.ylabel(\"total_stock_value\")\n",
    "matplotlib.pyplot.show()"
   ]
  },
  {
   "cell_type": "code",
   "execution_count": 7,
   "metadata": {
    "collapsed": false
   },
   "outputs": [
    {
     "data": {
      "text/plain": [
       "'TOTAL'"
      ]
     },
     "execution_count": 7,
     "metadata": {},
     "output_type": "execute_result"
    }
   ],
   "source": [
    "# removing outlier \n",
    "enron.total_payments.idxmax()\n"
   ]
  },
  {
   "cell_type": "code",
   "execution_count": 8,
   "metadata": {
    "collapsed": true
   },
   "outputs": [],
   "source": [
    "#droping total it must be a spreadsheet mistake\n",
    "enron=enron.drop(\"TOTAL\")"
   ]
  },
  {
   "cell_type": "code",
   "execution_count": 9,
   "metadata": {
    "collapsed": false
   },
   "outputs": [
    {
     "data": {
      "image/png": "[encoded data removed]",
      "text/plain": [
       "<matplotlib.figure.Figure at 0xb132fd0>"
      ]
     },
     "metadata": {},
     "output_type": "display_data"
    },
    {
     "data": {
      "text/plain": [
       "'LAY KENNETH L'"
      ]
     },
     "execution_count": 9,
     "metadata": {},
     "output_type": "execute_result"
    }
   ],
   "source": [
    "#data_dict.pop( 'TOTAL', 0 )\n",
    "\n",
    "e = enron[(enron.total_payments != np.nan) & (enron.total_stock_value != np.nan)]\n",
    "\n",
    "matplotlib.pyplot.scatter(x=\"total_payments\", y=\"total_stock_value\", data=e)\n",
    "matplotlib.pyplot.xlabel(\"total_payments\")\n",
    "matplotlib.pyplot.ylabel(\"total_stock_value\")\n",
    "matplotlib.pyplot.show()\n",
    "enron.total_payments.idxmax()\n"
   ]
  },
  {
   "cell_type": "markdown",
   "metadata": {},
   "source": [
    " LAY KENNETH L  is the next outlier but it is a valid point "
   ]
  },
  {
   "cell_type": "code",
   "execution_count": 10,
   "metadata": {
    "collapsed": false
   },
   "outputs": [],
   "source": [
    "enron = enron.replace(np.nan, 'NaN') # since to use tester code, i needed to convert back to \"NaN\"\n",
    "data_dict = enron[features_list].to_dict(orient = 'index')"
   ]
  },
  {
   "cell_type": "code",
   "execution_count": 11,
   "metadata": {
    "collapsed": false
   },
   "outputs": [
    {
     "name": "stdout",
     "output_type": "stream",
     "text": [
      "DecisionTreeClassifier(class_weight=None, criterion='gini', max_depth=None,\n",
      "            max_features=None, max_leaf_nodes=None,\n",
      "            min_impurity_split=1e-07, min_samples_leaf=1,\n",
      "            min_samples_split=2, min_weight_fraction_leaf=0.0,\n",
      "            presort=False, random_state=None, splitter='best')\n",
      "\tAccuracy: 0.79813\tPrecision: 0.22947\tRecall: 0.21800\tF1: 0.22359\tF2: 0.22020\n",
      "\tTotal predictions: 15000\tTrue positives:  436\tFalse positives: 1464\tFalse negatives: 1564\tTrue negatives: 11536\n",
      "\n"
     ]
    }
   ],
   "source": [
    "from tester import test_classifier\n",
    "from sklearn.tree import DecisionTreeClassifier\n",
    "clf = DecisionTreeClassifier()\n",
    "if \"email_address\" in features_list:\n",
    "    features_list.remove(\"email_address\")\n",
    "    feat=features_list\n",
    "else :\n",
    "    feat=features_list\n",
    "test_classifier(clf, data_dict, feat)"
   ]
  },
  {
   "cell_type": "markdown",
   "metadata": {},
   "source": [
    "# Q2\n",
    "\n",
    "### What features did you end up using in your POI identifier, and what selection process did you use to pick them? Did you have to do any scaling? Why or why not? As part of the assignment, you should attempt to engineer your own feature that does not come ready-made in the dataset -- explain what feature you tried to make, and the rationale behind it. (You do not necessarily have to use it in the final analysis, only engineer and test it.) In your feature selection step, if you used an algorithm like a decision tree, please also give the feature importances of the features that you use, and if you used an automated feature selection function like SelectKBest, please report the feature scores and reasons for your choice of parameter values."
   ]
  },
  {
   "cell_type": "code",
   "execution_count": 12,
   "metadata": {
    "collapsed": false
   },
   "outputs": [],
   "source": [
    "### Task 3: Create new feature(s)\n",
    "### Store to my_dataset for easy export below.\n",
    "my_dataset = data_dict\n",
    "\n"
   ]
  },
  {
   "cell_type": "code",
   "execution_count": 13,
   "metadata": {
    "collapsed": true
   },
   "outputs": [],
   "source": [
    "#Adding two new features\n",
    "for key, value in my_dataset.items():\n",
    "    if value['from_messages'] == 'NaN' or value['from_this_person_to_poi'] == 'NaN':\n",
    "        value['person_to_poi/total_msgs'] = 0.0\n",
    "    else:\n",
    "        value['person_to_poi/total_msgs'] = value['from_this_person_to_poi'] / (1.0*value['from_messages'])\n",
    "\n",
    "    if value['to_messages'] == 'NaN' or value['from_poi_to_this_person'] == 'NaN':\n",
    "        value['poi_to_person/to_msgs'] = 0.0\n",
    "    else:\n",
    "        value['poi_to_person/to_msgs'] = value['from_poi_to_this_person'] / (1.0*value['to_messages'])\n",
    "features_new_list=features_list+['person_to_poi/total_msgs','poi_to_person/to_msgs']"
   ]
  },
  {
   "cell_type": "code",
   "execution_count": 14,
   "metadata": {
    "collapsed": false
   },
   "outputs": [
    {
     "name": "stderr",
     "output_type": "stream",
     "text": [
      "D:\\Anaconda2\\lib\\site-packages\\ipykernel\\__main__.py:13: FutureWarning: sort(columns=....) is deprecated, use sort_values(by=.....)\n"
     ]
    },
    {
     "data": {
      "text/html": [
       "<div>\n",
       "<table border=\"1\" class=\"dataframe\">\n",
       "  <thead>\n",
       "    <tr style=\"text-align: right;\">\n",
       "      <th></th>\n",
       "      <th>Importances</th>\n",
       "    </tr>\n",
       "  </thead>\n",
       "  <tbody>\n",
       "    <tr>\n",
       "      <th>exercised_stock_options</th>\n",
       "      <td>0.155722</td>\n",
       "    </tr>\n",
       "    <tr>\n",
       "      <th>person_to_poi/total_msgs</th>\n",
       "      <td>0.097685</td>\n",
       "    </tr>\n",
       "    <tr>\n",
       "      <th>bonus</th>\n",
       "      <td>0.085482</td>\n",
       "    </tr>\n",
       "    <tr>\n",
       "      <th>deferred_income</th>\n",
       "      <td>0.084499</td>\n",
       "    </tr>\n",
       "    <tr>\n",
       "      <th>restricted_stock</th>\n",
       "      <td>0.062858</td>\n",
       "    </tr>\n",
       "    <tr>\n",
       "      <th>from_this_person_to_poi</th>\n",
       "      <td>0.058244</td>\n",
       "    </tr>\n",
       "    <tr>\n",
       "      <th>salary</th>\n",
       "      <td>0.049674</td>\n",
       "    </tr>\n",
       "    <tr>\n",
       "      <th>to_messages</th>\n",
       "      <td>0.046025</td>\n",
       "    </tr>\n",
       "    <tr>\n",
       "      <th>total_payments</th>\n",
       "      <td>0.045579</td>\n",
       "    </tr>\n",
       "    <tr>\n",
       "      <th>total_stock_value</th>\n",
       "      <td>0.044452</td>\n",
       "    </tr>\n",
       "  </tbody>\n",
       "</table>\n",
       "</div>"
      ],
      "text/plain": [
       "                          Importances\n",
       "exercised_stock_options      0.155722\n",
       "person_to_poi/total_msgs     0.097685\n",
       "bonus                        0.085482\n",
       "deferred_income              0.084499\n",
       "restricted_stock             0.062858\n",
       "from_this_person_to_poi      0.058244\n",
       "salary                       0.049674\n",
       "to_messages                  0.046025\n",
       "total_payments               0.045579\n",
       "total_stock_value            0.044452"
      ]
     },
     "execution_count": 14,
     "metadata": {},
     "output_type": "execute_result"
    }
   ],
   "source": [
    "\n",
    "### Extract features and labels from dataset for local testing\n",
    "data = featureFormat(my_dataset, features_new_list, sort_keys = True)\n",
    "labels, features = targetFeatureSplit(data)\n",
    "from sklearn.ensemble import ExtraTreesClassifier\n",
    "\n",
    "clf= ExtraTreesClassifier()\n",
    "\n",
    "clf.fit(features, labels)\n",
    "result = pd.DataFrame(clf.feature_importances_,\n",
    "                          index=features_new_list[1:])\n",
    "result.columns = ['Importances']\n",
    "result = result.sort(['Importances'], ascending=False)\n",
    "result[:10]\n"
   ]
  },
  {
   "cell_type": "code",
   "execution_count": 15,
   "metadata": {
    "collapsed": false
   },
   "outputs": [],
   "source": [
    "# leakage = [ 'poi_to_person/to_msgs','from_messages','person_to_poi/total_msgs''to_messages', 'from_poi_to_this_person',\\\n",
    "#            'from_messages',\\\n",
    "#  'from_this_person_to_poi',\\\n",
    "#  'shared_receipt_with_poi',\\\n",
    "#            'person_to_poi/total_msgs']\n",
    "# features_new_list = [feat for feat in features_new_list if feat not in leakage]\n",
    "# features_new_list"
   ]
  },
  {
   "cell_type": "code",
   "execution_count": 40,
   "metadata": {
    "collapsed": false
   },
   "outputs": [
    {
     "name": "stdout",
     "output_type": "stream",
     "text": [
      "DecisionTreeClassifier(class_weight=None, criterion='gini', max_depth=None,\n",
      "            max_features=None, max_leaf_nodes=None,\n",
      "            min_impurity_split=1e-07, min_samples_leaf=1,\n",
      "            min_samples_split=2, min_weight_fraction_leaf=0.0,\n",
      "            presort=False, random_state=None, splitter='best')\n",
      "\tAccuracy: 0.81767\tPrecision: 0.31144\tRecall: 0.30350\tF1: 0.30742\tF2: 0.30506\n",
      "\tTotal predictions: 15000\tTrue positives:  607\tFalse positives: 1342\tFalse negatives: 1393\tTrue negatives: 11658\n",
      "\n"
     ]
    }
   ],
   "source": [
    "from tester import test_classifier\n",
    "from sklearn.tree import DecisionTreeClassifier\n",
    "clf = DecisionTreeClassifier()\n",
    "if \"email_address\" in features_list:\n",
    "    features_list.remove(\"email_address\")\n",
    "    feat=features_list\n",
    "else :\n",
    "    feat=features_list\n",
    "test_classifier(clf, my_dataset, features_new_list)"
   ]
  },
  {
   "cell_type": "markdown",
   "metadata": {},
   "source": [
    "### From the above we can observe"
   ]
  },
  {
   "cell_type": "markdown",
   "metadata": {},
   "source": [
    "## Q3\n",
    "\n",
    "**What algorithm did you end up using? What other one(s) did you try? How did model performance differ between algorithms?**"
   ]
  },
  {
   "cell_type": "code",
   "execution_count": 93,
   "metadata": {
    "collapsed": false
   },
   "outputs": [],
   "source": [
    "### Task 4: Try a varity of classifiers\n",
    "### Please name your classifier clf for easy export below.\n",
    "### Note that if you want to do PCA or other multi-stage operations,\n",
    "### you'll need to use Pipelines.\n",
    "# Provided to give you a starting point. Try a variety of classifiers.\n",
    "from sklearn.neighbors import KNeighborsClassifier\n",
    "from sklearn.preprocessing import StandardScaler\n",
    "from sklearn.feature_selection import SelectKBest\n",
    "from sklearn.feature_selection import f_classif, chi2\n",
    "from sklearn.feature_selection import RFE \n",
    "from sklearn import tree\n",
    "from sklearn.svm import SVC, SVR\n",
    "from sklearn.ensemble import AdaBoostClassifier\n",
    "from sklearn.ensemble import ExtraTreesClassifier\n",
    "from sklearn.ensemble import RandomForestClassifier\n",
    "from sklearn.naive_bayes import GaussianNB\n",
    "from sklearn.metrics import accuracy_score, precision_score, recall_score\n",
    "from sklearn.cross_validation import train_test_split, StratifiedKFold\n",
    "from sklearn.pipeline import Pipeline\n",
    "from sklearn.grid_search import GridSearchCV\n",
    "from sklearn.decomposition import PCA\n",
    "from sklearn.preprocessing import MinMaxScaler\n",
    "from sklearn.model_selection import RandomizedSearchCV\n"
   ]
  },
  {
   "cell_type": "code",
   "execution_count": 130,
   "metadata": {
    "collapsed": false
   },
   "outputs": [],
   "source": [
    "parameters={}\n",
    "parameters[\"DecisionTreeClassifier\"] = [{'min_samples_split': [2,3,4], 'criterion': ['gini', 'entropy']}]\n",
    "parameters[\"GaussianNB\"] = [{ 'selection__k':[9,10,11], 'pca__n_components': [6,7,8] }]\n",
    "parameters[\"SVC\"] =[{ 'selection__k':[10],\"svc__C\":[x/10.0 for x in range(1000, 1100,10)] ,\n",
    "                  \"svc__kernel\" : ['poly', 'rbf', 'sigmoid']}]\n",
    "#[{\"selection__k\": [ 8,9, 10] ,'pca__n_components': [6,7,8] ,'svc__kernel': ['poly', 'rbf', 'sigmoid'], 'svc__C':  [x/10.0 for x in range(1, 10)], 'svc__gamma': [1e-3,1e-4] }]\n",
    "#parameters[\"SVC\"] =[{ \"selection__k\": [ 8,9, 10],'pca__n_components': [6,7,8] ,'svc__C' : [x/100.0 for x in range(1000, 2000,10)][0.1,1,10,100,1000],'svc__kernel' : ['poly', 'rbf', 'sigmoid']}] \n",
    "# parameters[\"AdaBoostClassifier\"] = [{\"selection__k\": [ 8,9, 10], 'ada__learning_rate' : [x/20.0 for x in range(1, 20)],'ada__n_estimators' : [10,50,100],\\\n",
    "#                     'ada__algorithm': ['SAMME','SAMME.R'] }],{ 'svc__kernel': ['linear'], 'svc__C':[1,10,100,1000] \n",
    "parameters[\"AdaBoostClassifier\"] = [{ 'learning_rate' : [x/20.0 for x in range(1, 10)],'n_estimators' : [10,50],\\\n",
    "                    'algorithm': ['SAMME','SAMME.R'] }]\n",
    "parameters[\"KNeighborsClassifier\"] = [{ 'selection__k':[10],'pca__n_components': [6,7,8] ,\"knn__n_neighbors\": range(3,4), 'knn__weights': ['uniform','distance'], 'knn__algorithm': ['ball_tree','kd_tree','brute']}]\n",
    "# parameters[\"RandomForestClassifier\"]=[{\"R__max_depth\": [3, None],\n",
    "#               \"R__max_features\": [1, 3, 5],\n",
    "#               \"R__min_samples_split\": [2, 3, 5],\n",
    "#               \"R__min_samples_leaf\": [1, 3, 5],\n",
    "#               \"R__bootstrap\": [True, False],\n",
    "#               \"R__criterion\": [\"gini\", \"entropy\"],\n",
    "#               \"selection__k\": [ 8, 10],\n",
    "#               'pca__n_components': [6,7,8]}]\n",
    "pipe={}\n",
    "pipe[\"DecisionTreeClassifier\"] = DecisionTreeClassifier()\n",
    "pipe[\"GaussianNB\"] = Pipeline([('scaler', MinMaxScaler()),('selection', SelectKBest()),('pca', PCA()),('naive_bayes', GaussianNB())])\n",
    "pipe[\"SVC\"] =Pipeline([('selection', SelectKBest()),('scaler', StandardScaler()),('svc', SVC())])\n",
    "#Pipeline([('selection', SelectKBest()),('scaler', StandardScaler()),('pca', PCA()),('svc', SVC())])\n",
    "pipe[\"AdaBoostClassifier\"] =  AdaBoostClassifier()\n",
    "pipe[\"KNeighborsClassifier\"] = Pipeline([('selection',SelectKBest()),('pca', PCA()), ('knn', KNeighborsClassifier())])\n",
    "#pipe[\"RandomForestClassifier\"]=Pipeline([('selection',SelectKBest()),('pca', PCA()), ('R', RandomForestClassifier())])\n"
   ]
  },
  {
   "cell_type": "code",
   "execution_count": 19,
   "metadata": {
    "collapsed": true
   },
   "outputs": [],
   "source": [
    "\n",
    "### Task 5: Tune your classifier to achieve better than .3 precision and recall \n",
    "### using our testing script. Check the tester.py script in the final project\n",
    "### folder for details on the evaluation method, especially the test_classifier\n",
    "### function. Because of the small size of the dataset, the script uses\n",
    "### stratified shuffle split cross validation. For more info: \n",
    "### http://scikit-learn.org/stable/modules/generated/sklearn.cross_validation.StratifiedShuffleSplit.html\n",
    "data = featureFormat(my_dataset, features_new_list, sort_keys = True)\n",
    "labels, features = targetFeatureSplit(data)\n",
    "# Example starting point. Try investigating other evaluation techniques!\n",
    "from sklearn.cross_validation import train_test_split\n",
    "features_train, features_test, labels_train, labels_test = \\\n",
    "    train_test_split(features, labels, test_size=0.3, random_state=42)"
   ]
  },
  {
   "cell_type": "code",
   "execution_count": 143,
   "metadata": {
    "collapsed": false,
    "scrolled": true
   },
   "outputs": [
    {
     "name": "stdout",
     "output_type": "stream",
     "text": [
      "DecisionTreeClassifier\n",
      "DecisionTreeClassifier(class_weight=None, criterion='entropy', max_depth=None,\n",
      "            max_features=None, max_leaf_nodes=None,\n",
      "            min_impurity_split=1e-07, min_samples_leaf=1,\n",
      "            min_samples_split=2, min_weight_fraction_leaf=0.0,\n",
      "            presort=False, random_state=None, splitter='best')\n",
      "\tAccuracy: 0.83093\tPrecision: 0.36465\tRecall: 0.36100\tF1: 0.36281\tF2: 0.36172\n",
      "\tTotal predictions: 15000\tTrue positives:  722\tFalse positives: 1258\tFalse negatives: 1278\tTrue negatives: 11742\n",
      "\n"
     ]
    }
   ],
   "source": [
    "clf=DecisionTreeClassifier()\n",
    "clf_name = clf.__class__.__name__\n",
    "grid = GridSearchCV(estimator =pipe[clf_name],param_grid = parameters[clf_name],\\\n",
    "                                cv = StratifiedKFold(labels_train, n_folds = 6, shuffle = True) \\\n",
    "                            ,n_jobs = -1,scoring = 'f1')\n",
    "grid.fit(features_train, labels_train)\n",
    "print clf_name \n",
    "test_classifier(grid.best_estimator_, my_dataset, features_new_list)"
   ]
  },
  {
   "cell_type": "code",
   "execution_count": 142,
   "metadata": {
    "collapsed": false
   },
   "outputs": [
    {
     "name": "stdout",
     "output_type": "stream",
     "text": [
      "AdaBoostClassifier\n",
      "AdaBoostClassifier(algorithm='SAMME.R', base_estimator=None,\n",
      "          learning_rate=0.45, n_estimators=50, random_state=None)\n",
      "\tAccuracy: 0.84947\tPrecision: 0.41434\tRecall: 0.31200\tF1: 0.35596\tF2: 0.32821\n",
      "\tTotal predictions: 15000\tTrue positives:  624\tFalse positives:  882\tFalse negatives: 1376\tTrue negatives: 12118\n",
      "\n"
     ]
    }
   ],
   "source": [
    "clf=AdaBoostClassifier()\n",
    "clf_name = clf.__class__.__name__\n",
    "grid = GridSearchCV(estimator =pipe[clf_name],param_grid = parameters[clf_name],\\\n",
    "                                cv = StratifiedKFold(labels_train, n_folds = 6, shuffle = True) \\\n",
    "                            ,n_jobs = -1,scoring = 'f1')\n",
    "grid.fit(features_train, labels_train)\n",
    "print clf_name \n",
    "test_classifier(grid.best_estimator_, my_dataset, features_new_list)"
   ]
  },
  {
   "cell_type": "code",
   "execution_count": 144,
   "metadata": {
    "collapsed": false
   },
   "outputs": [
    {
     "name": "stdout",
     "output_type": "stream",
     "text": [
      "SVC\n",
      "Pipeline(steps=[('selection', SelectKBest(k=10, score_func=<function f_classif at 0x000000000C01FF98>)), ('scaler', StandardScaler(copy=True, with_mean=True, with_std=True)), ('svc', SVC(C=100.0, cache_size=200, class_weight=None, coef0=0.0,\n",
      "  decision_function_shape=None, degree=3, gamma='auto', kernel='sigmoid',\n",
      "  max_iter=-1, probability=False, random_state=None, shrinking=True,\n",
      "  tol=0.001, verbose=False))])\n",
      "\tAccuracy: 0.81613\tPrecision: 0.30301\tRecall: 0.29150\tF1: 0.29715\tF2: 0.29373\n",
      "\tTotal predictions: 15000\tTrue positives:  583\tFalse positives: 1341\tFalse negatives: 1417\tTrue negatives: 11659\n",
      "\n"
     ]
    }
   ],
   "source": [
    "clf=SVC()\n",
    "clf_name = clf.__class__.__name__\n",
    "grid = GridSearchCV(estimator =pipe[clf_name],param_grid = parameters[clf_name],\\\n",
    "                                cv = StratifiedKFold(labels_train, n_folds = 6, shuffle = True) \\\n",
    "                            ,n_jobs = -1,scoring = 'f1')\n",
    "grid.fit(features_train, labels_train)\n",
    "print clf_name \n",
    "test_classifier(grid.best_estimator_, my_dataset, features_new_list)"
   ]
  },
  {
   "cell_type": "code",
   "execution_count": 145,
   "metadata": {
    "collapsed": false
   },
   "outputs": [
    {
     "name": "stdout",
     "output_type": "stream",
     "text": [
      "GaussianNB\n",
      "Pipeline(steps=[('scaler', MinMaxScaler(copy=True, feature_range=(0, 1))), ('selection', SelectKBest(k=9, score_func=<function f_classif at 0x000000000C01FF98>)), ('pca', PCA(copy=True, iterated_power='auto', n_components=8, random_state=None,\n",
      "  svd_solver='auto', tol=0.0, whiten=False)), ('naive_bayes', GaussianNB(priors=None))])\n",
      "\tAccuracy: 0.81427\tPrecision: 0.30754\tRecall: 0.31400\tF1: 0.31074\tF2: 0.31269\n",
      "\tTotal predictions: 15000\tTrue positives:  628\tFalse positives: 1414\tFalse negatives: 1372\tTrue negatives: 11586\n",
      "\n"
     ]
    }
   ],
   "source": [
    "clf=GaussianNB()\n",
    "clf_name = clf.__class__.__name__\n",
    "grid = GridSearchCV(estimator =pipe[clf_name],param_grid = parameters[clf_name],\\\n",
    "                                cv = StratifiedKFold(labels_train, n_folds = 6, shuffle = True) \\\n",
    "                            ,n_jobs = -1,scoring = 'f1')\n",
    "grid.fit(features_train, labels_train)\n",
    "print clf_name \n",
    "test_classifier(grid.best_estimator_, my_dataset, features_new_list)"
   ]
  },
  {
   "cell_type": "code",
   "execution_count": 146,
   "metadata": {
    "collapsed": false
   },
   "outputs": [
    {
     "name": "stdout",
     "output_type": "stream",
     "text": [
      "KNeighborsClassifier\n",
      "Pipeline(steps=[('selection', SelectKBest(k=10, score_func=<function f_classif at 0x000000000C01FF98>)), ('pca', PCA(copy=True, iterated_power='auto', n_components=6, random_state=None,\n",
      "  svd_solver='auto', tol=0.0, whiten=False)), ('knn', KNeighborsClassifier(algorithm='ball_tree', leaf_size=30, metric='minkowski',\n",
      "           metric_params=None, n_jobs=1, n_neighbors=3, p=2,\n",
      "           weights='uniform'))])\n",
      "\tAccuracy: 0.87227\tPrecision: 0.53832\tRecall: 0.29500\tF1: 0.38114\tF2: 0.32432\n",
      "\tTotal predictions: 15000\tTrue positives:  590\tFalse positives:  506\tFalse negatives: 1410\tTrue negatives: 12494\n",
      "\n"
     ]
    }
   ],
   "source": [
    "clf=KNeighborsClassifier()\n",
    "clf_name = clf.__class__.__name__\n",
    "grid = GridSearchCV(estimator =pipe[clf_name],param_grid = parameters[clf_name],\\\n",
    "                                cv = StratifiedKFold(labels_train, n_folds = 6, shuffle = True) \\\n",
    "                            ,n_jobs = -1,scoring = 'f1')\n",
    "grid.fit(features_train, labels_train)\n",
    "print clf_name \n",
    "test_classifier(grid.best_estimator_, my_dataset, features_new_list)"
   ]
  },
  {
   "cell_type": "code",
   "execution_count": 21,
   "metadata": {
    "collapsed": true
   },
   "outputs": [],
   "source": [
    "### Task 6: Dump your classifier, dataset, and features_list so anyone can\n",
    "### check your results. You do not need to change anything below, but make sure\n",
    "### that the version of poi_id.py that you submit can be run on its own and\n",
    "### generates the necessary .pkl files for validating your results.\n",
    "\n",
    "dump_classifier_and_data(clf, my_dataset, features_list)"
   ]
  },
  {
   "cell_type": "markdown",
   "metadata": {},
   "source": [
    "## Q4\n",
    "\n",
    "**What does it mean to tune the parameters of an algorithm, and what can happen if you don’t do this well?  How did you tune the parameters of your particular algorithm? (Some algorithms do not have parameters that you need to tune -- if this is the case for the one you picked, identify and briefly explain how you would have done it for the model that was not your final choice or a different model that does utilize parameter tuning, e.g. a decision tree classifier)**"
   ]
  },
  {
   "cell_type": "markdown",
   "metadata": {},
   "source": [
    "Tuning a parameter of an algorithm's main focus is to optimize and get the best output.It mainly focuses on balancing the bias variance trade off ,\n",
    "\n",
    "|High bias model:|High variance model:|\n",
    "|------------|-----------|\n",
    "|where it does not have the capacity to learn anything practically and ignores data.| good at recreating data that it has seen before.Where it cannot generalize new data.|\n",
    "\n",
    "\n",
    "We need a low bias and low variance model to get the most optimized output.\n",
    "Not all the parameters need to be tuned , but there might be a chance for underfitting or overfitting the data,for these cases we need to tune certain parameters of a given estimator.\n",
    "\n",
    "Gaussian NB doesnt have any parameters for tuning.\n",
    "Tuning is done by using GridSearchCV ,\n",
    "\n",
    "GridSearchCV basically is a  systematic way of working through various conjuctions of parameter tunes, cross-validating as it goes to determine which tune gives the best performance.\n",
    "\n",
    "For a given Machine learning algorithm ,for high performance there are diiferent tuning parameters ,\n",
    "to find them we use gridsearchCV.\n",
    "If we input few tuning parameter with a list of possible values for each parameter and it makes different combinations. Grid search technique gives parameters that maximize the score,Which leads to Optimization of learning algorithm.\n",
    "\n",
    "The grid search used a stratified k-fold (set to 6) cross validation so that test and train subset were balanced over the target POI class. \n",
    "My goal was to maximize the precision and recall score so i choose scoring parameter as 'f1' to get a optimized model selection."
   ]
  },
  {
   "cell_type": "markdown",
   "metadata": {},
   "source": [
    "## Q5\n",
    "\n",
    "**What is validation, and what’s a classic mistake you can make if you do it wrong? How did you validate your analysis?**"
   ]
  },
  {
   "cell_type": "markdown",
   "metadata": {},
   "source": [
    " The measure of estimating the model's performance on unseen data is called Validation. The major problem with machine learning algorithm is underfitting or overfitting of our data. The most important thing is to  get to know how the model will generalize to unseen data.\n",
    " \n",
    " We split our data into unseen (testing data) and training data to measure the preformance of the model.For example taking k-fold technique in picture \n",
    " \n",
    "k-fold technique:\n",
    "\n",
    ">First we divide our data set into k parts.A single part is selected as test set and rest (k-1) parts are taken as training set.\n",
    "\n",
    ">>We run  Different learning experiments,every part acts as the testing set one time, and rest acts as the training set K-1 times.\n",
    "\n",
    ">>Assume  a1,a2,....ak (a is the data set and divided into k parts).In each k experiments you pick one of the subsets in aloop from a1 to ak  as testing data and rest as training data.\n",
    "\n",
    " >>We take average of the test result performance by  running multiple times(ie,train our machine learing algoritm and test it using our test set).\n",
    "   \n",
    "   >If we observe Kfold is using all the data for testing as well as all the data for training , hence average of these test results gives us an accurate score.\n",
    "   \n",
    ">>In grid search there might be a chance to overfit the validation set since we use it many times to evaluate performance of different points on the grid and choose a point that delivered good performance.\n",
    "\n",
    ">>Without k-fold cross-validation the risk is higher that grid search will select different parameter value combinations that perform very well on a specific train-test split but poorly on some.\n",
    "\n",
    "\n",
    "We used stratified kfold cross validation.This cross-validation object is a variation of KFold that returns stratified folds. The folds are made by preserving the percentage of samples for each class.  Stratification of folds in a cross-validation ensure that each test and train set have a balanced proportion of the target class.Hence the number of poi to non pois in each fold would be equal,leading to optimized output."
   ]
  },
  {
   "cell_type": "markdown",
   "metadata": {},
   "source": [
    "## Q6\n",
    "\n",
    "**Give at least 2 evaluation metrics and your average performance for each of them.  Explain an interpretation of your metrics that says something human-understandable about your algorithm’s performance. **"
   ]
  },
  {
   "cell_type": "markdown",
   "metadata": {},
   "source": [
    "I would like to see the preformance of the decision tree classifier\n",
    "\n",
    " $$ Accuracy= \\frac{True Positives + True Negatives}{Total Predictions }$$\n",
    " \n",
    " $$ Precision= \\frac{True Positives}{True Positives +False Positives}$$\n",
    " \n",
    " $$ Recall= \\frac{True Positives}{True Positives +False Negitives}$$\n",
    " \n",
    "|Context|Accuracy:\t|Precision: |\tRecall:|\n",
    "|--|-----|-----|-----|\n",
    " |After Data exploration|0.79813|   0.22947  |    0.21800|\n",
    "|After feature selection|    0.81767 | 0.31144| 0.30350|\n",
    "|After tuning parameters| 0.83093\t |0.36465\t|0.36100|\t\n",
    "\n",
    "\n",
    "\n",
    "The Decision Tree classifier can correctly identify a person as POI or non-POI with a accuracy of 0.83\n",
    "with precision and recall scores of 0.364 and 0.361.With the Precision score being 0.364,model can  identify  36.4% as actual POI and rest 63.6% are not correctly identified by the classifier.Recall score being 0.361 ,If a POI is present in the test set,  36.1% of the time classifier would be correctly label the POI.\n",
    "\n",
    "  "
   ]
  }
 ],
 "metadata": {
  "anaconda-cloud": {},
  "kernelspec": {
   "display_name": "Python 2",
   "language": "python",
   "name": "python2"
  },
  "language_info": {
   "codemirror_mode": {
    "name": "ipython",
    "version": 2
   },
   "file_extension": ".py",
   "mimetype": "text/x-python",
   "name": "python",
   "nbconvert_exporter": "python",
   "pygments_lexer": "ipython2",
   "version": "2.7.13"
  }
 },
 "nbformat": 4,
 "nbformat_minor": 2
}
